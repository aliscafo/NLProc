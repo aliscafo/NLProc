{
 "cells": [
  {
   "cell_type": "code",
   "execution_count": 34,
   "metadata": {
    "colab": {
     "base_uri": "https://localhost:8080/",
     "height": 54
    },
    "colab_type": "code",
    "id": "wA6rdH6heAF1",
    "outputId": "bc37c676-d81e-42f3-a823-46c5d3682044"
   },
   "outputs": [
    {
     "name": "stdout",
     "output_type": "stream",
     "text": [
      "Drive already mounted at ./gdrive; to attempt to forcibly remount, call drive.mount(\"./gdrive\", force_remount=True).\n"
     ]
    }
   ],
   "source": [
    "from google.colab import drive\n",
    "drive.mount('./gdrive')"
   ]
  },
  {
   "cell_type": "code",
   "execution_count": 5,
   "metadata": {
    "colab": {
     "base_uri": "https://localhost:8080/",
     "height": 34
    },
    "colab_type": "code",
    "id": "AHjuycgwRxGK",
    "outputId": "683e6c49-45f9-4323-e403-d74f4e9e09fc"
   },
   "outputs": [
    {
     "name": "stdout",
     "output_type": "stream",
     "text": [
      "Requirement already satisfied: razdel in /usr/local/lib/python3.6/dist-packages (0.4.0)\n",
      "\u001b[33mWARNING: You are using pip version 19.2.1, however version 19.3.1 is available.\n",
      "You should consider upgrading via the 'pip install --upgrade pip' command.\u001b[0m\n",
      "Requirement already satisfied: tqdm in /usr/local/lib/python3.6/dist-packages (4.40.1)\n",
      "\u001b[33mWARNING: You are using pip version 19.2.1, however version 19.3.1 is available.\n",
      "You should consider upgrading via the 'pip install --upgrade pip' command.\u001b[0m\n",
      "Collecting nltk\n",
      "\u001b[?25l  Downloading https://files.pythonhosted.org/packages/f6/1d/d925cfb4f324ede997f6d47bea4d9babba51b49e87a767c170b77005889d/nltk-3.4.5.zip (1.5MB)\n",
      "\u001b[K     |████████████████████████████████| 1.5MB 10.8MB/s eta 0:00:01\n",
      "\u001b[?25hRequirement already satisfied: six in /usr/local/lib/python3.6/dist-packages (from nltk) (1.12.0)\n",
      "Building wheels for collected packages: nltk\n",
      "  Building wheel for nltk (setup.py) ... \u001b[?25ldone\n",
      "\u001b[?25h  Created wheel for nltk: filename=nltk-3.4.5-cp36-none-any.whl size=1449903 sha256=7e5f1b4ce68eb6396a7397aaa1f445232202415f5ad53a5992f5f34e00fec86d\n",
      "  Stored in directory: /root/.cache/pip/wheels/96/86/f6/68ab24c23f207c0077381a5e3904b2815136b879538a24b483\n",
      "Successfully built nltk\n",
      "Installing collected packages: nltk\n",
      "Successfully installed nltk-3.4.5\n",
      "\u001b[33mWARNING: You are using pip version 19.2.1, however version 19.3.1 is available.\n",
      "You should consider upgrading via the 'pip install --upgrade pip' command.\u001b[0m\n"
     ]
    }
   ],
   "source": [
    "! pip install razdel\n",
    "! pip install tqdm\n",
    "! pip install nltk"
   ]
  },
  {
   "cell_type": "code",
   "execution_count": 6,
   "metadata": {
    "colab": {},
    "colab_type": "code",
    "id": "-GdLTPv3xdKi"
   },
   "outputs": [],
   "source": [
    "import csv\n",
    "import string\n",
    "from collections import defaultdict\n",
    "from tqdm import tnrange, tqdm_notebook\n",
    "from tqdm.auto import tqdm\n",
    "from sklearn.model_selection import train_test_split\n",
    "import numpy as np\n",
    "from matplotlib import pyplot as plt\n",
    "\n",
    "import torch\n",
    "import torch.nn as nn\n",
    "import re\n",
    "import pandas as pd\n",
    "import torch.nn.functional as F\n",
    "import torch.optim as optim\n",
    "from torch.utils.data.dataset import Dataset\n",
    "from torch.utils.data import DataLoader\n",
    "from torch.nn.utils.rnn import pad_sequence\n",
    "import nltk\n",
    "from razdel import sentenize\n",
    "from nltk.corpus import stopwords\n",
    "import string\n",
    "from nltk.tokenize import wordpunct_tokenize as tokenize\n",
    "from nltk.stem.porter import PorterStemmer\n",
    "from sklearn.feature_extraction.text import TfidfVectorizer\n",
    "from scipy.spatial.distance import cosine"
   ]
  },
  {
   "cell_type": "code",
   "execution_count": 8,
   "metadata": {},
   "outputs": [],
   "source": [
    "SEED = 1\n",
    "torch.manual_seed(SEED)\n",
    "np.random.seed(SEED)"
   ]
  },
  {
   "cell_type": "code",
   "execution_count": 7,
   "metadata": {
    "colab": {
     "base_uri": "https://localhost:8080/",
     "height": 85
    },
    "colab_type": "code",
    "id": "TM-FGpSWHCWz",
    "outputId": "9f302d22-fe30-45ca-e3fe-adab15c81c29"
   },
   "outputs": [
    {
     "name": "stderr",
     "output_type": "stream",
     "text": [
      "[nltk_data] Downloading package punkt to /root/nltk_data...\n",
      "[nltk_data]   Unzipping tokenizers/punkt.zip.\n",
      "[nltk_data] Downloading package stopwords to /root/nltk_data...\n",
      "[nltk_data]   Unzipping corpora/stopwords.zip.\n"
     ]
    }
   ],
   "source": [
    "# Russian NLP utilites\n",
    "nltk.download('punkt')\n",
    "nltk.download('stopwords')\n",
    "stop_words = set(stopwords.words('russian'))\n",
    "stemmer = nltk.stem.snowball.SnowballStemmer(\"russian\")"
   ]
  },
  {
   "cell_type": "code",
   "execution_count": 9,
   "metadata": {
    "colab": {
     "base_uri": "https://localhost:8080/",
     "height": 34
    },
    "colab_type": "code",
    "id": "th_KCfdCxdLC",
    "outputId": "865f7adf-d4f8-41de-f050-4c497c2d739b"
   },
   "outputs": [
    {
     "data": {
      "text/plain": [
       "device(type='cuda')"
      ]
     },
     "execution_count": 9,
     "metadata": {},
     "output_type": "execute_result"
    }
   ],
   "source": [
    "DEVICE = torch.device('cuda' \n",
    "                      if torch.cuda.is_available() \n",
    "                      else 'cpu')\n",
    "DEVICE"
   ]
  },
  {
   "cell_type": "code",
   "execution_count": 15,
   "metadata": {
    "colab": {},
    "colab_type": "code",
    "id": "ZP0JBc2lRueM"
   },
   "outputs": [],
   "source": [
    "def find_closest_sent(text, question, incl_next):\n",
    "  sents = [elem.text for elem in list(sentenize(text))]\n",
    "  #question_tokens = [stemmer.stem(word.lower()) for word in question.split(\" \")]\n",
    "  docs = sents + [question]\n",
    "  #print(docs)\n",
    "  modified_docs = [[stemmer.stem(i.lower()) for i in tokenize(d.translate(str.maketrans('','',string.punctuation))) if i.lower() not in stop_words] for d in docs]\n",
    "  #print(modified_docs)\n",
    "  modified_docs = [' '.join(i) for i in modified_docs] # this is only to convert our list of lists to list of strings that vectorizer uses.\n",
    "  tf_idf = TfidfVectorizer().fit_transform(modified_docs)\n",
    "\n",
    "  l = len(sents)\n",
    "  minimum = (1, None)\n",
    "  for i in range(l):\n",
    "    #print(sents[i])\n",
    "    #print(cosine(tf_idf[i].todense(), tf_idf[l].todense()))\n",
    "    if cosine(tf_idf[i].todense(), tf_idf[l].todense()) < minimum[0]:\n",
    "      minimum = (cosine(tf_idf[i].todense(), tf_idf[l].todense()), i)\n",
    "  if minimum[1] == None:\n",
    "    return None, -1\n",
    "  #if minimum[1] + 1 != l and incl_next:\n",
    "  #  return sents[minimum[1]] + \" \" + sents[minimum[1] + 1], minimum[1]\n",
    "  return sents[minimum[1]], minimum[1]\n"
   ]
  },
  {
   "cell_type": "code",
   "execution_count": 16,
   "metadata": {
    "colab": {},
    "colab_type": "code",
    "id": "pKOR515JJCPh"
   },
   "outputs": [],
   "source": [
    "def find_sent_and_ans_start(text, question, answer):\n",
    "  closest_sent, closest_sent_ind = find_closest_sent(text, question, False)\n",
    "  #print(closest_sent)\n",
    "\n",
    "  #sent_text = nltk.sent_tokenize(text, language=\"russian\")\n",
    "  sent_text = [elem.text for elem in list(sentenize(text))]\n",
    "  j = 0\n",
    "  for sent in sent_text:\n",
    "    ind = sent.lower().find(answer.lower())\n",
    "    if ind != -1:\n",
    "      if closest_sent != None and closest_sent.strip() != sent.strip():\n",
    "        if closest_sent_ind < j:\n",
    "          sent = closest_sent + \" \" + sent\n",
    "          ind += len(closest_sent) + 1\n",
    "        else:\n",
    "          sent = sent + \" \" + closest_sent\n",
    "      return sent, ind\n",
    "    j += 1\n",
    "\n",
    "  i = 0\n",
    "  sz = len(sent_text)\n",
    "  for i in range(sz - 1):\n",
    "    sent = sent_text[i] + \" \" + sent_text[i + 1]\n",
    "    #print(sent)\n",
    "    ind = sent.lower().find(answer.lower())\n",
    "    if ind != -1:\n",
    "      if closest_sent != None and sent.strip().find(closest_sent.strip()) == -1:\n",
    "        if closest_sent_ind < i:\n",
    "          sent = closest_sent + \" \" + sent\n",
    "          ind += len(closest_sent) + 1\n",
    "        else:\n",
    "          sent = sent + \" \" + closest_sent\n",
    "      return sent, ind\n",
    "  \n",
    "  return \"\", -1"
   ]
  },
  {
   "cell_type": "code",
   "execution_count": 17,
   "metadata": {
    "colab": {
     "base_uri": "https://localhost:8080/",
     "height": 54
    },
    "colab_type": "code",
    "id": "7ak1Or4ZSIga",
    "outputId": "ace1061b-d554-42d7-f7a2-9b414f4c00c1"
   },
   "outputs": [
    {
     "data": {
      "text/plain": [
       "'В некоторые жаркие и засушливые годы обнаруживается связь между погодными условиями и изменениями внешнего вида бабочек: появление бабочек с признаками южных климатических форм. Среди дневных бабочек можно также найти также несколько примеров полиморфизма — одновременного и совместного существования различно окрашенных форм в одном виде, свободно скрещивающихся между собою и передающих свои признаки потомству (например, желтушки, большая перламутровка и другие).'"
      ]
     },
     "execution_count": 17,
     "metadata": {},
     "output_type": "execute_result"
    }
   ],
   "source": [
    "text = \"В некоторые жаркие и засушливые годы обнаруживается связь между погодными условиями и изменениями внешнего вида бабочек: появление бабочек с признаками южных климатических форм. Смена времён года вызывает у многих видов явления сезонного диморфизма и триморфизма. Среди дневных бабочек можно также найти также несколько примеров полиморфизма — одновременного и совместного существования различно окрашенных форм в одном виде, свободно скрещивающихся между собою и передающих свои признаки потомству (например, желтушки, большая перламутровка и другие).\"\n",
    "question = \"Какие представители вида бабочек обладают полиморфизмом\"\n",
    "ans = \"желтушки, большая перламутровка\"\n",
    "sent, ans_start = find_sent_and_ans_start(text, question, ans)\n",
    "sent"
   ]
  },
  {
   "cell_type": "code",
   "execution_count": 18,
   "metadata": {
    "colab": {
     "base_uri": "https://localhost:8080/",
     "height": 122
    },
    "colab_type": "code",
    "id": "uMlAyUpWGsTK",
    "outputId": "4d014acd-0b2c-44ba-a713-4b2e7262f1c6"
   },
   "outputs": [
    {
     "data": {
      "text/plain": [
       "['Через два года после смерти Л. Пастера в 1897 году Э. Бухнер опубликовал работу Спиртовое брожение без дрожжевых клеток , в которой экспериментально показал, что бесклеточный дрожжевой сок осуществляет спиртовое брожение так же, как и неразрушенные дрожжевые клетки.',\n",
       " 'В 1907 году за эту работу он был удостоен Нобелевской премии.',\n",
       " 'Впервые высокоочищенный кристаллический фермент (уреаза) был выделен в 1926 году Дж.',\n",
       " 'Самнером.',\n",
       " 'В течение последующих 10 лет было выделено ещё несколько ферментов, и белковая природа ферментов была окончательно доказана.']"
      ]
     },
     "execution_count": 18,
     "metadata": {},
     "output_type": "execute_result"
    }
   ],
   "source": [
    "sentens = nltk.sent_tokenize(\"Через два года после смерти Л. Пастера в 1897 году Э. Бухнер опубликовал работу Спиртовое брожение без дрожжевых клеток , в которой экспериментально показал, что бесклеточный дрожжевой сок осуществляет спиртовое брожение так же, как и неразрушенные дрожжевые клетки. В 1907 году за эту работу он был удостоен Нобелевской премии. Впервые высокоочищенный кристаллический фермент (уреаза) был выделен в 1926 году Дж. Самнером. В течение последующих 10 лет было выделено ещё несколько ферментов, и белковая природа ферментов была окончательно доказана.\", language=\"russian\")\n",
    "sentens"
   ]
  },
  {
   "cell_type": "code",
   "execution_count": 23,
   "metadata": {
    "colab": {
     "base_uri": "https://localhost:8080/",
     "height": 289
    },
    "colab_type": "code",
    "id": "xdLGIY9ih3bk",
    "outputId": "7def3d01-cb03-44f4-85b7-b1e53aacc820"
   },
   "outputs": [
    {
     "data": {
      "text/html": [
       "<div>\n",
       "<style scoped>\n",
       "    .dataframe tbody tr th:only-of-type {\n",
       "        vertical-align: middle;\n",
       "    }\n",
       "\n",
       "    .dataframe tbody tr th {\n",
       "        vertical-align: top;\n",
       "    }\n",
       "\n",
       "    .dataframe thead th {\n",
       "        text-align: right;\n",
       "    }\n",
       "</style>\n",
       "<table border=\"1\" class=\"dataframe\">\n",
       "  <thead>\n",
       "    <tr style=\"text-align: right;\">\n",
       "      <th></th>\n",
       "      <th>paragraph_id</th>\n",
       "      <th>question_id</th>\n",
       "      <th>paragraph</th>\n",
       "      <th>question</th>\n",
       "      <th>answer</th>\n",
       "    </tr>\n",
       "  </thead>\n",
       "  <tbody>\n",
       "    <tr>\n",
       "      <th>0</th>\n",
       "      <td>14754</td>\n",
       "      <td>60544</td>\n",
       "      <td>Первые упоминания о строении человеческого тел...</td>\n",
       "      <td>Где встречаются первые упоминания о строении ч...</td>\n",
       "      <td>в Древнем Египте</td>\n",
       "    </tr>\n",
       "    <tr>\n",
       "      <th>1</th>\n",
       "      <td>13859</td>\n",
       "      <td>1604</td>\n",
       "      <td>Телескоп имеет модульную структуру и содержит ...</td>\n",
       "      <td>Как называется корректирующая оптическая систе...</td>\n",
       "      <td>COSTAR</td>\n",
       "    </tr>\n",
       "    <tr>\n",
       "      <th>2</th>\n",
       "      <td>8310</td>\n",
       "      <td>30350</td>\n",
       "      <td>Критики теории Вегенера поставили во главу угл...</td>\n",
       "      <td>Какая теория была отвергнута после смерти Веге...</td>\n",
       "      <td>теория дрейфа материков</td>\n",
       "    </tr>\n",
       "    <tr>\n",
       "      <th>3</th>\n",
       "      <td>8766</td>\n",
       "      <td>53270</td>\n",
       "      <td>При нагревании кусочки янтаря становятся очень...</td>\n",
       "      <td>Чему не уступают по красоте изделия из прессов...</td>\n",
       "      <td>изделиям из монолитных камней</td>\n",
       "    </tr>\n",
       "    <tr>\n",
       "      <th>4</th>\n",
       "      <td>14719</td>\n",
       "      <td>75698</td>\n",
       "      <td>Нисходящие дифтонги со слабым гласным /i/ и /u...</td>\n",
       "      <td>На какие группы классифицируют дифтонги?</td>\n",
       "      <td>оральные и назальные</td>\n",
       "    </tr>\n",
       "  </tbody>\n",
       "</table>\n",
       "</div>"
      ],
      "text/plain": [
       "   paragraph_id  question_id  \\\n",
       "0         14754        60544   \n",
       "1         13859         1604   \n",
       "2          8310        30350   \n",
       "3          8766        53270   \n",
       "4         14719        75698   \n",
       "\n",
       "                                           paragraph  \\\n",
       "0  Первые упоминания о строении человеческого тел...   \n",
       "1  Телескоп имеет модульную структуру и содержит ...   \n",
       "2  Критики теории Вегенера поставили во главу угл...   \n",
       "3  При нагревании кусочки янтаря становятся очень...   \n",
       "4  Нисходящие дифтонги со слабым гласным /i/ и /u...   \n",
       "\n",
       "                                            question  \\\n",
       "0  Где встречаются первые упоминания о строении ч...   \n",
       "1  Как называется корректирующая оптическая систе...   \n",
       "2  Какая теория была отвергнута после смерти Веге...   \n",
       "3  Чему не уступают по красоте изделия из прессов...   \n",
       "4           На какие группы классифицируют дифтонги?   \n",
       "\n",
       "                          answer  \n",
       "0               в Древнем Египте  \n",
       "1                         COSTAR  \n",
       "2        теория дрейфа материков  \n",
       "3  изделиям из монолитных камней  \n",
       "4           оральные и назальные  "
      ]
     },
     "execution_count": 23,
     "metadata": {},
     "output_type": "execute_result"
    }
   ],
   "source": [
    "df = pd.read_csv(\"train_qa.csv\", encoding=\"utf-8\")\n",
    "size = df.shape[0]\n",
    "\n",
    "df.head(5)"
   ]
  },
  {
   "cell_type": "code",
   "execution_count": 24,
   "metadata": {
    "colab": {},
    "colab_type": "code",
    "id": "H_yZM_AxiOzD"
   },
   "outputs": [],
   "source": [
    "contexts = df.iloc[:, 2].values\n",
    "questions = df.iloc[:, 3].values\n",
    "answers = df.iloc[:, 4].values\n",
    "\n",
    "answers[34157] = \"573,000 копий\""
   ]
  },
  {
   "cell_type": "code",
   "execution_count": 25,
   "metadata": {
    "colab": {},
    "colab_type": "code",
    "id": "FuyFPt4dkknU"
   },
   "outputs": [],
   "source": [
    "def split_text(text):\n",
    "  return re.split('(\\W)', text)"
   ]
  },
  {
   "cell_type": "code",
   "execution_count": 26,
   "metadata": {
    "colab": {
     "base_uri": "https://localhost:8080/",
     "height": 1000
    },
    "colab_type": "code",
    "id": "UA8B0VyXhRMY",
    "outputId": "3c781a3f-ba45-4234-b75f-5ae45d0b8933"
   },
   "outputs": [
    {
     "name": "stdout",
     "output_type": "stream",
     "text": [
      "0\n",
      "CONTEXT:  Первые упоминания о строении человеческого тела встречаются в Древнем Египте. В XXVII веке до н. э. египетский врач Имхотеп описал некоторые органы и их функции, в частности головной мозг, деятельность сердца, распространение крови по сосудам. В древнекитайской книге Нейцзин (XI—VII вв. до н. э.) упоминаются сердце, печень, лёгкие и другие органы тела человека. В индийской книге Аюрведа ( Знание жизни , IX-III вв. до н. э.) содержится большой объём анатомических данных о мышцах, нервах, типах телосложения и темперамента, головном и спинном мозге.\n",
      "QUESTION:  Где встречаются первые упоминания о строении человеческого тела\n",
      "ANSWER:  в Древнем Египте\n",
      "EXTRACTED ANSWER:  в Древнем Египте\n",
      "SENT:  Первые упоминания о строении человеческого тела встречаются в Древнем Египте.\n"
     ]
    },
    {
     "name": "stderr",
     "output_type": "stream",
     "text": [
      "/usr/local/lib/python3.6/dist-packages/scipy/spatial/distance.py:720: RuntimeWarning: invalid value encountered in double_scalars\n",
      "  dist = 1.0 - uv / np.sqrt(uu * vv)\n",
      "/usr/local/lib/python3.6/dist-packages/scipy/spatial/distance.py:720: RuntimeWarning: invalid value encountered in double_scalars\n",
      "  dist = 1.0 - uv / np.sqrt(uu * vv)\n",
      "/usr/local/lib/python3.6/dist-packages/scipy/spatial/distance.py:720: RuntimeWarning: invalid value encountered in double_scalars\n",
      "  dist = 1.0 - uv / np.sqrt(uu * vv)\n",
      "/usr/local/lib/python3.6/dist-packages/scipy/spatial/distance.py:720: RuntimeWarning: invalid value encountered in double_scalars\n",
      "  dist = 1.0 - uv / np.sqrt(uu * vv)\n"
     ]
    },
    {
     "name": "stdout",
     "output_type": "stream",
     "text": [
      "5000\n",
      "CONTEXT:  Следует различать золотовалютные резервы (международные валютные резервы) и золотой запас (золотые резервы) страны. Золотые резервы (золотой запас) — это лишь часть официальных золотовалютных резервов государства, представленная в виде монетарного золота. Золотовалютные резервы Национального банка Украины на 1 января 2014 года составляли 20,416 млрд долларов США, в том числе резервы в иностранной валюте — 18,76 млрд долларов, резервная позиция в МВФ — 0,03 млн долларов, специальные права заимствования — 16 млн долларов, монетарное золото — 1,64 млрд долларов. Львиную же долю международных резервов Украины составляют активы в конвертируемых валютах (ценные бумаги, депозиты и, отчасти, валюта).\n",
      "QUESTION:  Сколько составляли золотовалютные резервы Национального банка Украины на 1 января 2014 года\n",
      "ANSWER:  20,416 млрд долларов США\n",
      "EXTRACTED ANSWER:  20,416 млрд долларов США\n",
      "SENT:  Золотовалютные резервы Национального банка Украины на 1 января 2014 года составляли 20,416 млрд долларов США, в том числе резервы в иностранной валюте — 18,76 млрд долларов, резервная позиция в МВФ — 0,03 млн долларов, специальные права заимствования — 16 млн долларов, монетарное золото — 1,64 млрд долларов.\n"
     ]
    },
    {
     "name": "stderr",
     "output_type": "stream",
     "text": [
      "/usr/local/lib/python3.6/dist-packages/scipy/spatial/distance.py:720: RuntimeWarning: invalid value encountered in double_scalars\n",
      "  dist = 1.0 - uv / np.sqrt(uu * vv)\n",
      "/usr/local/lib/python3.6/dist-packages/scipy/spatial/distance.py:720: RuntimeWarning: invalid value encountered in double_scalars\n",
      "  dist = 1.0 - uv / np.sqrt(uu * vv)\n",
      "/usr/local/lib/python3.6/dist-packages/scipy/spatial/distance.py:720: RuntimeWarning: invalid value encountered in double_scalars\n",
      "  dist = 1.0 - uv / np.sqrt(uu * vv)\n",
      "/usr/local/lib/python3.6/dist-packages/scipy/spatial/distance.py:720: RuntimeWarning: invalid value encountered in double_scalars\n",
      "  dist = 1.0 - uv / np.sqrt(uu * vv)\n",
      "/usr/local/lib/python3.6/dist-packages/scipy/spatial/distance.py:720: RuntimeWarning: invalid value encountered in double_scalars\n",
      "  dist = 1.0 - uv / np.sqrt(uu * vv)\n"
     ]
    },
    {
     "name": "stdout",
     "output_type": "stream",
     "text": [
      "10000\n",
      "CONTEXT:  Когда я подрос, мне начало доставлять чрезвычайное наслаждение чтение всякого рода исторических рассказов. Немецкие книги, которые мне попадались под руку, я не выпускал из рук, пока не прочитывал их до конца. Латинским языком я занимался сначала только в школе и, без сомнения, я продвигался бы с обычной медленностью, если бы не случай, указавший мне совершенно своеобразный путь. В доме, где я жил, я наткнулся на две книги, оставленные одним студентом. Одна из них была сочинением Ливия, другая — хронологическая сокровищница Кальвизия. Как только эти книги попали мне в руки, я проглотил их.\n",
      "QUESTION:  Когда мне начало доставлять чрезвычайное наслаждение чтение всякого рода исторических рассказов\n",
      "ANSWER:  Когда я подрос\n",
      "EXTRACTED ANSWER:  Когда я подрос\n",
      "SENT:  Когда я подрос, мне начало доставлять чрезвычайное наслаждение чтение всякого рода исторических рассказов.\n"
     ]
    },
    {
     "name": "stderr",
     "output_type": "stream",
     "text": [
      "/usr/local/lib/python3.6/dist-packages/scipy/spatial/distance.py:720: RuntimeWarning: invalid value encountered in double_scalars\n",
      "  dist = 1.0 - uv / np.sqrt(uu * vv)\n",
      "/usr/local/lib/python3.6/dist-packages/scipy/spatial/distance.py:720: RuntimeWarning: invalid value encountered in double_scalars\n",
      "  dist = 1.0 - uv / np.sqrt(uu * vv)\n",
      "/usr/local/lib/python3.6/dist-packages/scipy/spatial/distance.py:720: RuntimeWarning: invalid value encountered in double_scalars\n",
      "  dist = 1.0 - uv / np.sqrt(uu * vv)\n",
      "/usr/local/lib/python3.6/dist-packages/scipy/spatial/distance.py:720: RuntimeWarning: invalid value encountered in double_scalars\n",
      "  dist = 1.0 - uv / np.sqrt(uu * vv)\n",
      "/usr/local/lib/python3.6/dist-packages/scipy/spatial/distance.py:720: RuntimeWarning: invalid value encountered in double_scalars\n",
      "  dist = 1.0 - uv / np.sqrt(uu * vv)\n",
      "/usr/local/lib/python3.6/dist-packages/scipy/spatial/distance.py:720: RuntimeWarning: invalid value encountered in double_scalars\n",
      "  dist = 1.0 - uv / np.sqrt(uu * vv)\n",
      "/usr/local/lib/python3.6/dist-packages/scipy/spatial/distance.py:720: RuntimeWarning: invalid value encountered in double_scalars\n",
      "  dist = 1.0 - uv / np.sqrt(uu * vv)\n",
      "/usr/local/lib/python3.6/dist-packages/scipy/spatial/distance.py:720: RuntimeWarning: invalid value encountered in double_scalars\n",
      "  dist = 1.0 - uv / np.sqrt(uu * vv)\n",
      "/usr/local/lib/python3.6/dist-packages/scipy/spatial/distance.py:720: RuntimeWarning: invalid value encountered in double_scalars\n",
      "  dist = 1.0 - uv / np.sqrt(uu * vv)\n",
      "/usr/local/lib/python3.6/dist-packages/scipy/spatial/distance.py:720: RuntimeWarning: invalid value encountered in double_scalars\n",
      "  dist = 1.0 - uv / np.sqrt(uu * vv)\n",
      "/usr/local/lib/python3.6/dist-packages/scipy/spatial/distance.py:720: RuntimeWarning: invalid value encountered in double_scalars\n",
      "  dist = 1.0 - uv / np.sqrt(uu * vv)\n",
      "/usr/local/lib/python3.6/dist-packages/scipy/spatial/distance.py:720: RuntimeWarning: invalid value encountered in double_scalars\n",
      "  dist = 1.0 - uv / np.sqrt(uu * vv)\n",
      "/usr/local/lib/python3.6/dist-packages/scipy/spatial/distance.py:720: RuntimeWarning: invalid value encountered in double_scalars\n",
      "  dist = 1.0 - uv / np.sqrt(uu * vv)\n",
      "/usr/local/lib/python3.6/dist-packages/scipy/spatial/distance.py:720: RuntimeWarning: invalid value encountered in double_scalars\n",
      "  dist = 1.0 - uv / np.sqrt(uu * vv)\n",
      "/usr/local/lib/python3.6/dist-packages/scipy/spatial/distance.py:720: RuntimeWarning: invalid value encountered in double_scalars\n",
      "  dist = 1.0 - uv / np.sqrt(uu * vv)\n",
      "/usr/local/lib/python3.6/dist-packages/scipy/spatial/distance.py:720: RuntimeWarning: invalid value encountered in double_scalars\n",
      "  dist = 1.0 - uv / np.sqrt(uu * vv)\n",
      "/usr/local/lib/python3.6/dist-packages/scipy/spatial/distance.py:720: RuntimeWarning: invalid value encountered in double_scalars\n",
      "  dist = 1.0 - uv / np.sqrt(uu * vv)\n"
     ]
    },
    {
     "name": "stdout",
     "output_type": "stream",
     "text": [
      "15000\n",
      "CONTEXT:  Кроме картин, в собрании были гравюры и офорты, которых насчитывалось более 3500 листов. Гравюры и офорты разделялись на две самостоятельные части — репродукционные и оригинальные. Последних — 6 папок. Среди оригинальных — работы итальянских школ — М. Раймонди, мантуанской, офорты С. Розы, Б. Кастильоне и другие. Немцы представлены нюрнбергскими клейнмейстерами. В этом разделе они пополнили эрмитажные пробелы. Более 150 гравюр Дюрера. Одних офортов Рембрандта − 203. Её сравнивали с коллекцией Д. Ровинского из Эрмитажа. Среди голландских офортистов — Эвердинген, Ван де Вельде, Ян ван Гойен. Имелись очень редкие листы, не описанные в Справочнике Бартча[6].\n",
      "QUESTION:  Сколько папок было оригинальных гравюр и офортов\n",
      "ANSWER:  6 папок\n",
      "EXTRACTED ANSWER:  6 папок\n",
      "SENT:  Гравюры и офорты разделялись на две самостоятельные части — репродукционные и оригинальные. Последних — 6 папок.\n"
     ]
    },
    {
     "name": "stderr",
     "output_type": "stream",
     "text": [
      "/usr/local/lib/python3.6/dist-packages/scipy/spatial/distance.py:720: RuntimeWarning: invalid value encountered in double_scalars\n",
      "  dist = 1.0 - uv / np.sqrt(uu * vv)\n",
      "/usr/local/lib/python3.6/dist-packages/scipy/spatial/distance.py:720: RuntimeWarning: invalid value encountered in double_scalars\n",
      "  dist = 1.0 - uv / np.sqrt(uu * vv)\n"
     ]
    },
    {
     "name": "stdout",
     "output_type": "stream",
     "text": [
      "17099\n",
      "Популярность прога в этот период остаётся ниже пиковой 1970-х годов, но продолжает расти. Происходит череда воссоединений прог-групп, иногда после десятков лет затишья. Наиболее знаменательны произошедшие в 2005 году реюнионы Pink Floyd и Van der Graaf Generator, причём вторая группа даже стала записывать новые альбомы. Прогрессивный рок охватывает всё бо́льшую территорию, прог-группы появляются в таких экзотических странах как Индонезия (Discus (англ.)), Пакистан (Mizraab (англ.)) и Узбекистан (Fromuz)[31]. Также возрождается жанр прогрессивного фолк-рока (The Decemberists; Karnataka (англ.); Mostly Autumn (англ.)русск.).\n",
      "The Decemberists; Karnataka (англ.); Mostly Autumn (англ.)русск\n"
     ]
    },
    {
     "name": "stderr",
     "output_type": "stream",
     "text": [
      "/usr/local/lib/python3.6/dist-packages/scipy/spatial/distance.py:720: RuntimeWarning: invalid value encountered in double_scalars\n",
      "  dist = 1.0 - uv / np.sqrt(uu * vv)\n",
      "/usr/local/lib/python3.6/dist-packages/scipy/spatial/distance.py:720: RuntimeWarning: invalid value encountered in double_scalars\n",
      "  dist = 1.0 - uv / np.sqrt(uu * vv)\n",
      "/usr/local/lib/python3.6/dist-packages/scipy/spatial/distance.py:720: RuntimeWarning: invalid value encountered in double_scalars\n",
      "  dist = 1.0 - uv / np.sqrt(uu * vv)\n"
     ]
    },
    {
     "name": "stdout",
     "output_type": "stream",
     "text": [
      "20000\n",
      "CONTEXT:  В настоящее время этот акт и прикрепленные карты имеют юридическую силу как для французского, так и итальянского правительств. Один из отпечатков из Sarde Atlas, сделанный в 1823 году, определяет границу по самому верхнему краю горы (4804 м [15 761 футов] в высоту). Конвенция от 7 марта 1861 признает это через прилагаемую карту, принимая во внимание пределы массива. Рисунок границы, проходящей по ледниковому покрову Монблана, дан на французском и итальянском языках. Анализ водораздела современных топографических карт не только ставит границу на главных вершинах, но и показывает, что граница должна следовать по линии на север от главной вершины к Мон-Моди, оставляя юго-восточный хребет Монблан-де-Курмайёр полностью под контролем Италии. Несмотря на то, что франко-итальянская граница была пересмотрена и в 1947 и 1963 годах, комиссия, которая состояла из двух итальянцев и французского представителя, проигнорировала вопрос о принадлежности Монблана.\n",
      "QUESTION:  Какой вопрос проигнорировала комиссия, пересматривавшая франко-итальянскую границу\n",
      "ANSWER:  вопрос о принадлежности Монблана\n",
      "EXTRACTED ANSWER:  вопрос о принадлежности Монблана\n",
      "SENT:  Несмотря на то, что франко-итальянская граница была пересмотрена и в 1947 и 1963 годах, комиссия, которая состояла из двух итальянцев и французского представителя, проигнорировала вопрос о принадлежности Монблана.\n"
     ]
    },
    {
     "name": "stderr",
     "output_type": "stream",
     "text": [
      "/usr/local/lib/python3.6/dist-packages/scipy/spatial/distance.py:720: RuntimeWarning: invalid value encountered in double_scalars\n",
      "  dist = 1.0 - uv / np.sqrt(uu * vv)\n",
      "/usr/local/lib/python3.6/dist-packages/scipy/spatial/distance.py:720: RuntimeWarning: invalid value encountered in double_scalars\n",
      "  dist = 1.0 - uv / np.sqrt(uu * vv)\n",
      "/usr/local/lib/python3.6/dist-packages/scipy/spatial/distance.py:720: RuntimeWarning: invalid value encountered in double_scalars\n",
      "  dist = 1.0 - uv / np.sqrt(uu * vv)\n",
      "/usr/local/lib/python3.6/dist-packages/scipy/spatial/distance.py:720: RuntimeWarning: invalid value encountered in double_scalars\n",
      "  dist = 1.0 - uv / np.sqrt(uu * vv)\n",
      "/usr/local/lib/python3.6/dist-packages/scipy/spatial/distance.py:720: RuntimeWarning: invalid value encountered in double_scalars\n",
      "  dist = 1.0 - uv / np.sqrt(uu * vv)\n",
      "/usr/local/lib/python3.6/dist-packages/scipy/spatial/distance.py:720: RuntimeWarning: invalid value encountered in double_scalars\n",
      "  dist = 1.0 - uv / np.sqrt(uu * vv)\n",
      "/usr/local/lib/python3.6/dist-packages/scipy/spatial/distance.py:720: RuntimeWarning: invalid value encountered in double_scalars\n",
      "  dist = 1.0 - uv / np.sqrt(uu * vv)\n",
      "/usr/local/lib/python3.6/dist-packages/scipy/spatial/distance.py:720: RuntimeWarning: invalid value encountered in double_scalars\n",
      "  dist = 1.0 - uv / np.sqrt(uu * vv)\n",
      "/usr/local/lib/python3.6/dist-packages/scipy/spatial/distance.py:720: RuntimeWarning: invalid value encountered in double_scalars\n",
      "  dist = 1.0 - uv / np.sqrt(uu * vv)\n",
      "/usr/local/lib/python3.6/dist-packages/scipy/spatial/distance.py:720: RuntimeWarning: invalid value encountered in double_scalars\n",
      "  dist = 1.0 - uv / np.sqrt(uu * vv)\n",
      "/usr/local/lib/python3.6/dist-packages/scipy/spatial/distance.py:720: RuntimeWarning: invalid value encountered in double_scalars\n",
      "  dist = 1.0 - uv / np.sqrt(uu * vv)\n",
      "/usr/local/lib/python3.6/dist-packages/scipy/spatial/distance.py:720: RuntimeWarning: invalid value encountered in double_scalars\n",
      "  dist = 1.0 - uv / np.sqrt(uu * vv)\n",
      "/usr/local/lib/python3.6/dist-packages/scipy/spatial/distance.py:720: RuntimeWarning: invalid value encountered in double_scalars\n",
      "  dist = 1.0 - uv / np.sqrt(uu * vv)\n",
      "/usr/local/lib/python3.6/dist-packages/scipy/spatial/distance.py:720: RuntimeWarning: invalid value encountered in double_scalars\n",
      "  dist = 1.0 - uv / np.sqrt(uu * vv)\n",
      "/usr/local/lib/python3.6/dist-packages/scipy/spatial/distance.py:720: RuntimeWarning: invalid value encountered in double_scalars\n",
      "  dist = 1.0 - uv / np.sqrt(uu * vv)\n",
      "/usr/local/lib/python3.6/dist-packages/scipy/spatial/distance.py:720: RuntimeWarning: invalid value encountered in double_scalars\n",
      "  dist = 1.0 - uv / np.sqrt(uu * vv)\n",
      "/usr/local/lib/python3.6/dist-packages/scipy/spatial/distance.py:720: RuntimeWarning: invalid value encountered in double_scalars\n",
      "  dist = 1.0 - uv / np.sqrt(uu * vv)\n",
      "/usr/local/lib/python3.6/dist-packages/scipy/spatial/distance.py:720: RuntimeWarning: invalid value encountered in double_scalars\n",
      "  dist = 1.0 - uv / np.sqrt(uu * vv)\n",
      "/usr/local/lib/python3.6/dist-packages/scipy/spatial/distance.py:720: RuntimeWarning: invalid value encountered in double_scalars\n",
      "  dist = 1.0 - uv / np.sqrt(uu * vv)\n",
      "/usr/local/lib/python3.6/dist-packages/scipy/spatial/distance.py:720: RuntimeWarning: invalid value encountered in double_scalars\n",
      "  dist = 1.0 - uv / np.sqrt(uu * vv)\n",
      "/usr/local/lib/python3.6/dist-packages/scipy/spatial/distance.py:720: RuntimeWarning: invalid value encountered in double_scalars\n",
      "  dist = 1.0 - uv / np.sqrt(uu * vv)\n",
      "/usr/local/lib/python3.6/dist-packages/scipy/spatial/distance.py:720: RuntimeWarning: invalid value encountered in double_scalars\n",
      "  dist = 1.0 - uv / np.sqrt(uu * vv)\n",
      "/usr/local/lib/python3.6/dist-packages/scipy/spatial/distance.py:720: RuntimeWarning: invalid value encountered in double_scalars\n",
      "  dist = 1.0 - uv / np.sqrt(uu * vv)\n",
      "/usr/local/lib/python3.6/dist-packages/scipy/spatial/distance.py:720: RuntimeWarning: invalid value encountered in double_scalars\n",
      "  dist = 1.0 - uv / np.sqrt(uu * vv)\n"
     ]
    },
    {
     "name": "stdout",
     "output_type": "stream",
     "text": [
      "25000\n",
      "CONTEXT:  Для России понятие бизнес-ангела является сравнительно новым, а рынок ангельских инвестиций в стране невелик. Задачу бизнес-ангелов зачастую выполняют грантовые программы, а подготовкой новых инвесторов занимаются государственные институты развития — Российская венчурная компания, Фонд развития интернет-инициатив — и объединения бизнес-ангелов. Среди отраслевых организаций Национальная ассоциация бизнес-ангелов, Национальное содружество бизнес-ангелов и локальные объединения в крупных российских городах.\n",
      "QUESTION:  Рынок каких инвестиций в России невелик\n",
      "ANSWER:  ангельских инвестиций\n",
      "EXTRACTED ANSWER:  ангельских инвестиций\n",
      "SENT:  Для России понятие бизнес-ангела является сравнительно новым, а рынок ангельских инвестиций в стране невелик.\n"
     ]
    },
    {
     "name": "stderr",
     "output_type": "stream",
     "text": [
      "/usr/local/lib/python3.6/dist-packages/scipy/spatial/distance.py:720: RuntimeWarning: invalid value encountered in double_scalars\n",
      "  dist = 1.0 - uv / np.sqrt(uu * vv)\n",
      "/usr/local/lib/python3.6/dist-packages/scipy/spatial/distance.py:720: RuntimeWarning: invalid value encountered in double_scalars\n",
      "  dist = 1.0 - uv / np.sqrt(uu * vv)\n",
      "/usr/local/lib/python3.6/dist-packages/scipy/spatial/distance.py:720: RuntimeWarning: invalid value encountered in double_scalars\n",
      "  dist = 1.0 - uv / np.sqrt(uu * vv)\n",
      "/usr/local/lib/python3.6/dist-packages/scipy/spatial/distance.py:720: RuntimeWarning: invalid value encountered in double_scalars\n",
      "  dist = 1.0 - uv / np.sqrt(uu * vv)\n",
      "/usr/local/lib/python3.6/dist-packages/scipy/spatial/distance.py:720: RuntimeWarning: invalid value encountered in double_scalars\n",
      "  dist = 1.0 - uv / np.sqrt(uu * vv)\n",
      "/usr/local/lib/python3.6/dist-packages/scipy/spatial/distance.py:720: RuntimeWarning: invalid value encountered in double_scalars\n",
      "  dist = 1.0 - uv / np.sqrt(uu * vv)\n"
     ]
    },
    {
     "name": "stdout",
     "output_type": "stream",
     "text": [
      "30000\n",
      "CONTEXT:  Традиционная экономическая система: Буркина-Фасо, Бурунди, Бангладеш, Афганистан, Бенин. Это наименее развитые страны мира. Экономика ориентирована на сельское хозяйство. В большинстве стран преобладает разрозненность населения в виде национальных (народных) групп. ВНП на душу населения не превышает 400 долларов. Экономика стран представлена в основном сельским хозяйством, редко горнодобывающей промышленностью. Всё, что производится и добывается не в состоянии прокормить и обеспечить население этих стран. В противовес этим государствам выступают страны с более высоким доходом, но тоже ориентированные на сельское хозяйство – Котд-дИвуар, Пакистан.\n",
      "QUESTION:  На что ориентирована экономика стран Буркина-Фасо, Бурунди, Бангладеш, Афганистан, Бенин \n",
      "ANSWER:  на сельское хозяйство\n",
      "EXTRACTED ANSWER:  на сельское хозяйство\n",
      "SENT:  Традиционная экономическая система: Буркина-Фасо, Бурунди, Бангладеш, Афганистан, Бенин. Экономика ориентирована на сельское хозяйство.\n"
     ]
    },
    {
     "name": "stderr",
     "output_type": "stream",
     "text": [
      "/usr/local/lib/python3.6/dist-packages/scipy/spatial/distance.py:720: RuntimeWarning: invalid value encountered in double_scalars\n",
      "  dist = 1.0 - uv / np.sqrt(uu * vv)\n",
      "/usr/local/lib/python3.6/dist-packages/scipy/spatial/distance.py:720: RuntimeWarning: invalid value encountered in double_scalars\n",
      "  dist = 1.0 - uv / np.sqrt(uu * vv)\n"
     ]
    },
    {
     "name": "stdout",
     "output_type": "stream",
     "text": [
      "35000\n",
      "CONTEXT:  Проблема сокращения бюджетного дефицита весьма серьёзна по ряду причин. Во-первых, объём необходимых государственных расходов велик. Эти обязательства накапливаются десятилетиями, многие из них не подлежат сокращению, снижение других является непопулярной мерой и затрагивает интересы различных групп населения. Во-вторых, находить новые источники пополнения бюджета достаточно сложно. Рост налогов негативно сказывается на деловой активности в экономике, способствует криминализации экономики (уклонению от налогообложения, росту теневой экономики).\n",
      "QUESTION:  К чему ведет рост налогов\n",
      "ANSWER:  уклонению от налогообложения, росту теневой экономики\n",
      "EXTRACTED ANSWER:  уклонению от налогообложения, росту теневой экономики\n",
      "SENT:  Рост налогов негативно сказывается на деловой активности в экономике, способствует криминализации экономики (уклонению от налогообложения, росту теневой экономики).\n"
     ]
    },
    {
     "name": "stderr",
     "output_type": "stream",
     "text": [
      "/usr/local/lib/python3.6/dist-packages/scipy/spatial/distance.py:720: RuntimeWarning: invalid value encountered in double_scalars\n",
      "  dist = 1.0 - uv / np.sqrt(uu * vv)\n",
      "/usr/local/lib/python3.6/dist-packages/scipy/spatial/distance.py:720: RuntimeWarning: invalid value encountered in double_scalars\n",
      "  dist = 1.0 - uv / np.sqrt(uu * vv)\n",
      "/usr/local/lib/python3.6/dist-packages/scipy/spatial/distance.py:720: RuntimeWarning: invalid value encountered in double_scalars\n",
      "  dist = 1.0 - uv / np.sqrt(uu * vv)\n",
      "/usr/local/lib/python3.6/dist-packages/scipy/spatial/distance.py:720: RuntimeWarning: invalid value encountered in double_scalars\n",
      "  dist = 1.0 - uv / np.sqrt(uu * vv)\n",
      "/usr/local/lib/python3.6/dist-packages/scipy/spatial/distance.py:720: RuntimeWarning: invalid value encountered in double_scalars\n",
      "  dist = 1.0 - uv / np.sqrt(uu * vv)\n",
      "/usr/local/lib/python3.6/dist-packages/scipy/spatial/distance.py:720: RuntimeWarning: invalid value encountered in double_scalars\n",
      "  dist = 1.0 - uv / np.sqrt(uu * vv)\n",
      "/usr/local/lib/python3.6/dist-packages/scipy/spatial/distance.py:720: RuntimeWarning: invalid value encountered in double_scalars\n",
      "  dist = 1.0 - uv / np.sqrt(uu * vv)\n",
      "/usr/local/lib/python3.6/dist-packages/scipy/spatial/distance.py:720: RuntimeWarning: invalid value encountered in double_scalars\n",
      "  dist = 1.0 - uv / np.sqrt(uu * vv)\n",
      "/usr/local/lib/python3.6/dist-packages/scipy/spatial/distance.py:720: RuntimeWarning: invalid value encountered in double_scalars\n",
      "  dist = 1.0 - uv / np.sqrt(uu * vv)\n",
      "/usr/local/lib/python3.6/dist-packages/scipy/spatial/distance.py:720: RuntimeWarning: invalid value encountered in double_scalars\n",
      "  dist = 1.0 - uv / np.sqrt(uu * vv)\n",
      "/usr/local/lib/python3.6/dist-packages/scipy/spatial/distance.py:720: RuntimeWarning: invalid value encountered in double_scalars\n",
      "  dist = 1.0 - uv / np.sqrt(uu * vv)\n",
      "/usr/local/lib/python3.6/dist-packages/scipy/spatial/distance.py:720: RuntimeWarning: invalid value encountered in double_scalars\n",
      "  dist = 1.0 - uv / np.sqrt(uu * vv)\n",
      "/usr/local/lib/python3.6/dist-packages/scipy/spatial/distance.py:720: RuntimeWarning: invalid value encountered in double_scalars\n",
      "  dist = 1.0 - uv / np.sqrt(uu * vv)\n",
      "/usr/local/lib/python3.6/dist-packages/scipy/spatial/distance.py:720: RuntimeWarning: invalid value encountered in double_scalars\n",
      "  dist = 1.0 - uv / np.sqrt(uu * vv)\n",
      "/usr/local/lib/python3.6/dist-packages/scipy/spatial/distance.py:720: RuntimeWarning: invalid value encountered in double_scalars\n",
      "  dist = 1.0 - uv / np.sqrt(uu * vv)\n",
      "/usr/local/lib/python3.6/dist-packages/scipy/spatial/distance.py:720: RuntimeWarning: invalid value encountered in double_scalars\n",
      "  dist = 1.0 - uv / np.sqrt(uu * vv)\n",
      "/usr/local/lib/python3.6/dist-packages/scipy/spatial/distance.py:720: RuntimeWarning: invalid value encountered in double_scalars\n",
      "  dist = 1.0 - uv / np.sqrt(uu * vv)\n",
      "/usr/local/lib/python3.6/dist-packages/scipy/spatial/distance.py:720: RuntimeWarning: invalid value encountered in double_scalars\n",
      "  dist = 1.0 - uv / np.sqrt(uu * vv)\n"
     ]
    },
    {
     "name": "stdout",
     "output_type": "stream",
     "text": [
      "39538\n",
      "В 1970-х новая кибернетика проявилась в различных областях, но особенно — в биологии. Некоторые биологи под влиянием кибернетических идей (Матурана и Варела, 1980; Варела, 1979; Атлан (англ.), 1979), осознали, что кибернетические метафоры программы, на которых базировалась молекулярная биология, представляли собой концепцию автономии, невозможную для живого существа. Следовательно, этим мыслителям пришлось изобрести новую кибернетику, более подходящую для организаций, которые человечество обнаруживает в природе — организаций, не изобретённых им самим [8]. Возможность того, что эта новая кибернетика применима к социальным формам организаций, остаётся предметом теоретических споров с 1980-х годов.\n",
      "Матурана и Варела, 1980; Варела, 1979; Атлан (англ.), 1979\n",
      "40000\n",
      "CONTEXT:  Организаторами образовательных курсов и курсов повышения профессиональной квалификации в данном случае выступают отраслевые ассоциации — международные ACTE и GBTA, национальные и местные, — а также крупные ТМС и иные профильные организации. Например, британское издание для корпоративных покупателей услуг делового туризма Buying Business Travel содействует профессиональному развитию участников рынка делового туризма, регулярно организуя различные форумы, панельные дискуссии и онлайн-тренинги. Площадку для диалога на актуальные темы, обмена опытом и информацией между специалистами организует и российский портал Buying Business Travel Russia.\n",
      "QUESTION:  Что предоставляет российский портал Buying Business Travel Russia\n",
      "ANSWER:  Площадку для диалога на актуальные темы, обмена опытом\n",
      "EXTRACTED ANSWER:  Площадку для диалога на актуальные темы, обмена опытом\n",
      "SENT:  Площадку для диалога на актуальные темы, обмена опытом и информацией между специалистами организует и российский портал Buying Business Travel Russia.\n"
     ]
    },
    {
     "name": "stderr",
     "output_type": "stream",
     "text": [
      "/usr/local/lib/python3.6/dist-packages/scipy/spatial/distance.py:720: RuntimeWarning: invalid value encountered in double_scalars\n",
      "  dist = 1.0 - uv / np.sqrt(uu * vv)\n",
      "/usr/local/lib/python3.6/dist-packages/scipy/spatial/distance.py:720: RuntimeWarning: invalid value encountered in double_scalars\n",
      "  dist = 1.0 - uv / np.sqrt(uu * vv)\n",
      "/usr/local/lib/python3.6/dist-packages/scipy/spatial/distance.py:720: RuntimeWarning: invalid value encountered in double_scalars\n",
      "  dist = 1.0 - uv / np.sqrt(uu * vv)\n",
      "/usr/local/lib/python3.6/dist-packages/scipy/spatial/distance.py:720: RuntimeWarning: invalid value encountered in double_scalars\n",
      "  dist = 1.0 - uv / np.sqrt(uu * vv)\n",
      "/usr/local/lib/python3.6/dist-packages/scipy/spatial/distance.py:720: RuntimeWarning: invalid value encountered in double_scalars\n",
      "  dist = 1.0 - uv / np.sqrt(uu * vv)\n",
      "/usr/local/lib/python3.6/dist-packages/scipy/spatial/distance.py:720: RuntimeWarning: invalid value encountered in double_scalars\n",
      "  dist = 1.0 - uv / np.sqrt(uu * vv)\n",
      "/usr/local/lib/python3.6/dist-packages/scipy/spatial/distance.py:720: RuntimeWarning: invalid value encountered in double_scalars\n",
      "  dist = 1.0 - uv / np.sqrt(uu * vv)\n",
      "/usr/local/lib/python3.6/dist-packages/scipy/spatial/distance.py:720: RuntimeWarning: invalid value encountered in double_scalars\n",
      "  dist = 1.0 - uv / np.sqrt(uu * vv)\n",
      "/usr/local/lib/python3.6/dist-packages/scipy/spatial/distance.py:720: RuntimeWarning: invalid value encountered in double_scalars\n",
      "  dist = 1.0 - uv / np.sqrt(uu * vv)\n",
      "/usr/local/lib/python3.6/dist-packages/scipy/spatial/distance.py:720: RuntimeWarning: invalid value encountered in double_scalars\n",
      "  dist = 1.0 - uv / np.sqrt(uu * vv)\n",
      "/usr/local/lib/python3.6/dist-packages/scipy/spatial/distance.py:720: RuntimeWarning: invalid value encountered in double_scalars\n",
      "  dist = 1.0 - uv / np.sqrt(uu * vv)\n",
      "/usr/local/lib/python3.6/dist-packages/scipy/spatial/distance.py:720: RuntimeWarning: invalid value encountered in double_scalars\n",
      "  dist = 1.0 - uv / np.sqrt(uu * vv)\n",
      "/usr/local/lib/python3.6/dist-packages/scipy/spatial/distance.py:720: RuntimeWarning: invalid value encountered in double_scalars\n",
      "  dist = 1.0 - uv / np.sqrt(uu * vv)\n"
     ]
    },
    {
     "name": "stdout",
     "output_type": "stream",
     "text": [
      "45000\n",
      "CONTEXT:  В своих Заметках о личности Белинского Гончаров с симпатией и благодарностью рассказал о своих встречах с критиком и о его роли как публициста, эстетического критика и трибуна, провозвестника новых грядущих начал общественной жизни . Весной 1847 года на страницах Современника публикуется Обыкновенная история . В романе конфликт между реализмом и романтизмом предстаёт как существенная коллизия русской жизни. Гончаров назвал свой роман Обыкновенная история , тем самым он подчеркнул типичность процессов, которые отразились в этом произведении.\n",
      "QUESTION:  Что отразил Гончаров названием романа\n",
      "ANSWER:  типичность процессов\n",
      "EXTRACTED ANSWER:  типичность процессов\n",
      "SENT:  Гончаров назвал свой роман Обыкновенная история , тем самым он подчеркнул типичность процессов, которые отразились в этом произведении.\n"
     ]
    },
    {
     "name": "stderr",
     "output_type": "stream",
     "text": [
      "/usr/local/lib/python3.6/dist-packages/scipy/spatial/distance.py:720: RuntimeWarning: invalid value encountered in double_scalars\n",
      "  dist = 1.0 - uv / np.sqrt(uu * vv)\n"
     ]
    },
    {
     "name": "stdout",
     "output_type": "stream",
     "text": [
      "47010\n",
      "Вторая категория разделов теоретической философии изучает сам процесс познания. Главной областью философии, которая задаётся вопросом Как мы что-либо знаем? и Действительно ли мы это знаем? , является эпистемология (иногда ещё называющаяся гносеологией ). В настоящее время её основным разделом, сосредоточившим основную исследовательскую деятельность, является философия науки, которая анализирует практику научного метода и пытается ответить на вопросы Как именно работает научный метод? , Можно ли формализовать научный метод? , Действительно ли работает научный метод? . Основные положения философии науки в рамках континентальной философии в настоящий момент сильно разнятся с аналогичными положениями в рамках аналитической философии. Философия науки, в свою очередь, разделяется на философию математики, философию физики, философию биологии, философию экономики и пр.\n",
      "Как именно работает научный метод? , Можно ли формализовать научный метод? , Действительно ли работает научный метод\n",
      "48283\n",
      "Во 2-й половине 1960-х годов Фишер выдвинулся в число сильнейших шахматистов мира, добиваясь успехов в турнирах самого высокого ранга: Гавана (1965) — 2—4-е место (в этом турнире Фишер участвовал заочно — в 1960-х годах США ввели санкции против Кубы, госдепартамент не разрешил ему выезд в Гавану, и Роберт играл из США, передавая свои ходы по телефону[5]); Санта-Моника (1966) — 2-е; Охрид и Монте-Карло (1967) — 1-е; Нетанья и Винковци (1968) — 1-е; Ровинь — Загреб и Буэнос-Айрес (1970) — 1-е место.\n",
      "Охрид и Монте-Карло (1967) — 1-е; Нетанья и Винковци (1968) — 1-е; Ровинь — Загреб и Буэнос-Айрес (1970) — 1-е место\n",
      "50000\n",
      "CONTEXT:  Главная и специфическая функция ЦНС — осуществление простых и сложных рефлексов. У высших животных и человека низшие и средние отделы ЦНС — спинной мозг, продолговатый мозг, средний мозг, промежуточный мозг и мозжечок — регулируют деятельность отдельных органов и систем высокоразвитого организма, осуществляют связь и взаимодействие между ними, обеспечивают единство организма и целостность его деятельности. Высший отдел ЦНС — кора больших полушарий головного мозга и ближайшие подкорковые образования — в основном регулирует связь и взаимоотношения организма как единого целого с окружающей средой.\n",
      "QUESTION:  Что регулирует высший отдел ЦНС человека\n",
      "ANSWER:  Связь и взаимоотношения организма как единого целого с окружающей средой\n",
      "EXTRACTED ANSWER:  связь и взаимоотношения организма как единого целого с окружающей средой\n",
      "SENT:  Высший отдел ЦНС — кора больших полушарий головного мозга и ближайшие подкорковые образования — в основном регулирует связь и взаимоотношения организма как единого целого с окружающей средой.\n",
      "Skipped: 4\n"
     ]
    }
   ],
   "source": [
    "skipped = 0\n",
    "dataset = []\n",
    "\n",
    "for i in range(size):\n",
    "  context = contexts[i]\n",
    "  question = questions[i].strip(\"?\")\n",
    "  answer = answers[i].strip(\".\").strip(\"...\").strip().strip(\"?\")\n",
    "\n",
    "  sent, ans_start = find_sent_and_ans_start(context, question, answer)\n",
    "  ans_len = len(answer)\n",
    "\n",
    "  if i % 5000 == 0:\n",
    "    print(i)\n",
    "    print(\"CONTEXT: \", context)\n",
    "    print(\"QUESTION: \", question)\n",
    "    print(\"ANSWER: \", answer)\n",
    "    if ans_start != -1:\n",
    "      print(\"EXTRACTED ANSWER: \", sent[ans_start:ans_start + ans_len])\n",
    "    print(\"SENT: \", sent)\n",
    "\n",
    "  if ans_start != -1:\n",
    "      elem = {'context': split_text(sent.lower()), 'question': split_text(question.lower()), 'answer': (ans_start, ans_len)}\n",
    "      dataset.append(elem)\n",
    "  else:\n",
    "      print(i)\n",
    "      print(context)\n",
    "      print(answer)\n",
    "      skipped += 1\n",
    "  #ind = context.find(answer)\n",
    "\n",
    "  #start_ind[i] = ind\n",
    "  #end_ind[i] = ind + len(answer)\n",
    "\n",
    "print(\"Skipped:\", skipped)"
   ]
  },
  {
   "cell_type": "code",
   "execution_count": 27,
   "metadata": {
    "colab": {
     "base_uri": "https://localhost:8080/",
     "height": 34
    },
    "colab_type": "code",
    "id": "Zybczve4qhmz",
    "outputId": "e673b6f7-8e28-4cac-b954-6742d1fd2ebb"
   },
   "outputs": [
    {
     "name": "stdout",
     "output_type": "stream",
     "text": [
      "Skipped: 4\n"
     ]
    }
   ],
   "source": [
    "print(\"Skipped:\", skipped)"
   ]
  },
  {
   "cell_type": "code",
   "execution_count": 28,
   "metadata": {
    "colab": {
     "base_uri": "https://localhost:8080/",
     "height": 54
    },
    "colab_type": "code",
    "id": "G7pRr7OiXwWT",
    "outputId": "cdcbee35-3203-4ea4-d194-e7a6f9a315d8"
   },
   "outputs": [
    {
     "name": "stdout",
     "output_type": "stream",
     "text": [
      "['Во 2-й половине 1960-х годов Фишер выдвинулся в число сильнейших шахматистов мира, добиваясь успехов в турнирах самого высокого ранга: Гавана (1965) — 2—4-е место (в этом турнире Фишер участвовал заочно — в 1960-х годах США ввели санкции против Кубы, госдепартамент не разрешил ему выезд в Гавану, и Роберт играл из США, передавая свои ходы по телефону[5]);', 'Санта-Моника (1966) — 2-е;', 'Охрид и Монте-Карло (1967) — 1-е;', 'Нетанья и Винковци (1968) — 1-е;', 'Ровинь — Загреб и Буэнос-Айрес (1970) — 1-е место.']\n"
     ]
    }
   ],
   "source": [
    "text = \"Во 2-й половине 1960-х годов Фишер выдвинулся в число сильнейших шахматистов мира, добиваясь успехов в турнирах самого высокого ранга: Гавана (1965) — 2—4-е место (в этом турнире Фишер участвовал заочно — в 1960-х годах США ввели санкции против Кубы, госдепартамент не разрешил ему выезд в Гавану, и Роберт играл из США, передавая свои ходы по телефону[5]); Санта-Моника (1966) — 2-е; Охрид и Монте-Карло (1967) — 1-е; Нетанья и Винковци (1968) — 1-е; Ровинь — Загреб и Буэнос-Айрес (1970) — 1-е место.\"\n",
    "sent_text = [elem.text for elem in list(sentenize(text))]\n",
    "print(sent_text)"
   ]
  },
  {
   "cell_type": "code",
   "execution_count": 29,
   "metadata": {
    "colab": {
     "base_uri": "https://localhost:8080/",
     "height": 34
    },
    "colab_type": "code",
    "id": "uuWkev9L00yv",
    "outputId": "bc76021c-4eeb-4d93-e9a8-5a512fabf135"
   },
   "outputs": [
    {
     "name": "stdout",
     "output_type": "stream",
     "text": [
      "50360\n"
     ]
    }
   ],
   "source": [
    "print(len(dataset))"
   ]
  },
  {
   "cell_type": "code",
   "execution_count": 30,
   "metadata": {
    "colab": {
     "base_uri": "https://localhost:8080/",
     "height": 54
    },
    "colab_type": "code",
    "id": "LbOdiSCuxdL1",
    "outputId": "2ba120aa-0c64-419a-d085-88df60ee4386"
   },
   "outputs": [
    {
     "name": "stdout",
     "output_type": "stream",
     "text": [
      "{'context': ['первые', ' ', 'упоминания', ' ', 'о', ' ', 'строении', ' ', 'человеческого', ' ', 'тела', ' ', 'встречаются', ' ', 'в', ' ', 'древнем', ' ', 'египте', '.', ''], 'question': ['где', ' ', 'встречаются', ' ', 'первые', ' ', 'упоминания', ' ', 'о', ' ', 'строении', ' ', 'человеческого', ' ', 'тела'], 'answer': (60, 16)}\n"
     ]
    }
   ],
   "source": [
    "print(dataset[0])"
   ]
  },
  {
   "cell_type": "code",
   "execution_count": 83,
   "metadata": {
    "colab": {},
    "colab_type": "code",
    "id": "fpm8j82GIkwm"
   },
   "outputs": [],
   "source": [
    "sep_token = \"<SEP>\"\n",
    "pad_token = \"<PAD>\"\n",
    "word2ind = defaultdict(lambda: 0)\n",
    "word2ind[sep_token] = 1\n",
    "word2ind[pad_token] = 2"
   ]
  },
  {
   "cell_type": "code",
   "execution_count": 84,
   "metadata": {
    "colab": {},
    "colab_type": "code",
    "id": "UfKZMibrpWJI"
   },
   "outputs": [],
   "source": [
    "def add_entity(item, entity, mode):\n",
    "  seq = []\n",
    "  for token in item[entity]:\n",
    "    st = stemmer.stem(token)\n",
    "    if mode == \"train\" and st not in word2ind:\n",
    "      word2ind[st] = len(word2ind) + 1\n",
    "    seq.append(word2ind[st])\n",
    "  if entity == \"context\":\n",
    "    seq.append(word2ind[sep_token])\n",
    "  return seq\n",
    "\n",
    "def to_seq(item, mode):\n",
    "  seq = []\n",
    "  seq += add_entity(item, \"context\", mode)\n",
    "  seq += add_entity(item, \"question\", mode)\n",
    "  return torch.tensor(seq)\n",
    "\n",
    "def pad(dataset, mode):\n",
    "    seqs = [to_seq(item, mode) for item in tqdm(dataset)]\n",
    "    return pad_sequence(seqs, batch_first=True, padding_value=word2ind[pad_token])"
   ]
  },
  {
   "cell_type": "code",
   "execution_count": 85,
   "metadata": {
    "colab": {
     "base_uri": "https://localhost:8080/",
     "height": 49,
     "referenced_widgets": [
      "b5f5a36465cc44fda7c18c15d5b35021",
      "7bcd11e0a4494bb0a8b630583e445dbe",
      "b0866c82fca24c9dbf1d2d4a78086913",
      "85b70c6ded3141c3964beb222b3549fd",
      "109916f815a84a78b25a862ac1afab56",
      "c14880f65dfc4dc3b79289a777504a46",
      "f7e95af8d7b4439e993575b029180a72",
      "ef452eca6acd486c9e49a983e6d7093a"
     ]
    },
    "colab_type": "code",
    "id": "8yT-kS5NxdMq",
    "outputId": "9ffe3831-f3fe-427a-9fa6-b9d8be10dc2d"
   },
   "outputs": [
    {
     "data": {
      "application/vnd.jupyter.widget-view+json": {
       "model_id": "f45a205629bd4b5f9d3157a6946e9afc",
       "version_major": 2,
       "version_minor": 0
      },
      "text/plain": [
       "HBox(children=(FloatProgress(value=0.0, max=50360.0), HTML(value='')))"
      ]
     },
     "metadata": {},
     "output_type": "display_data"
    },
    {
     "name": "stdout",
     "output_type": "stream",
     "text": [
      "\n"
     ]
    }
   ],
   "source": [
    "padded_dataset = pad(dataset, \"train\")"
   ]
  },
  {
   "cell_type": "code",
   "execution_count": 86,
   "metadata": {
    "colab": {
     "base_uri": "https://localhost:8080/",
     "height": 34
    },
    "colab_type": "code",
    "id": "Zd4oZk7nd2tL",
    "outputId": "cbd0628b-4cce-44f6-8d51-fe579d27ef94"
   },
   "outputs": [
    {
     "name": "stdout",
     "output_type": "stream",
     "text": [
      "53031\n"
     ]
    }
   ],
   "source": [
    "print(len(word2ind))"
   ]
  },
  {
   "cell_type": "code",
   "execution_count": 87,
   "metadata": {
    "colab": {},
    "colab_type": "code",
    "id": "rPgIjg8mxdMe"
   },
   "outputs": [],
   "source": [
    "def to_words(item):\n",
    "    pos = []\n",
    "    i = 0\n",
    "    for word in item['context']:\n",
    "        word_len = len(word)\n",
    "        pos.append((i, word_len))\n",
    "        i += word_len\n",
    "    return pos\n",
    "\n",
    "def to_words_pos(dataset):\n",
    "    return [to_words(item) for item in tqdm(dataset)]"
   ]
  },
  {
   "cell_type": "code",
   "execution_count": 88,
   "metadata": {
    "colab": {
     "base_uri": "https://localhost:8080/",
     "height": 49,
     "referenced_widgets": [
      "a9ec192ba3e54089899fb949aee9a07a",
      "b30fab0093c941f3a465574271d7c5f0",
      "544ab367675142dd80d8ebc9811c17e6",
      "65e51d8fcc4349068b00baba4c92701e",
      "ea366b7ee9444ff88c7888fdebdee4ab",
      "3564e04bb3d94b969d35ab64463ab703",
      "749d3d3771914a82bb324fc310771812",
      "3195e82544424d6a8685d3489825659c"
     ]
    },
    "colab_type": "code",
    "id": "5gZSvE6ixdMv",
    "outputId": "ddd39a2f-a1a7-4444-8e03-e218a4270025"
   },
   "outputs": [
    {
     "data": {
      "application/vnd.jupyter.widget-view+json": {
       "model_id": "88c8993234e54feaa569fb9aadf223d2",
       "version_major": 2,
       "version_minor": 0
      },
      "text/plain": [
       "HBox(children=(FloatProgress(value=0.0, max=50360.0), HTML(value='')))"
      ]
     },
     "metadata": {},
     "output_type": "display_data"
    },
    {
     "name": "stdout",
     "output_type": "stream",
     "text": [
      "\n"
     ]
    }
   ],
   "source": [
    "to_words_pos_dataset = to_words_pos(dataset)"
   ]
  },
  {
   "cell_type": "code",
   "execution_count": 89,
   "metadata": {
    "colab": {},
    "colab_type": "code",
    "id": "iJdrIaH3xdM2"
   },
   "outputs": [],
   "source": [
    "def merge(padded_dataset, to_words_pos_dataset, dataset):\n",
    "    merged = []\n",
    "    for sent, word_pos, row in tqdm(zip(padded_dataset, to_words_pos_dataset, dataset)):\n",
    "        ans_start, ans_len = row['answer']\n",
    "        ans_end = ans_start + ans_len\n",
    "        y = np.zeros((2), dtype=int)\n",
    "        for i in range(len(word_pos)):\n",
    "            if word_pos[i][0] == ans_start:\n",
    "                y[0] = i\n",
    "            if word_pos[i][0] == ans_end:\n",
    "                y[1] = i - 1\n",
    "        merged.append(np.append(sent.numpy(), y))\n",
    "    return merged"
   ]
  },
  {
   "cell_type": "code",
   "execution_count": 90,
   "metadata": {
    "colab": {
     "base_uri": "https://localhost:8080/",
     "height": 49,
     "referenced_widgets": [
      "e60e7856a32143d5bff1305bc5338cbd",
      "8a31b80e3b1a4596806eac6d20ab54c9",
      "dc93e8e2e9bd40188f95afd13de5a564",
      "3e8d10ea84cf482d83c1b2ca860142de",
      "5c8a57865cf94eb89eca9e6b1dfb8b33",
      "7a9caf104d824a47a46fe1911dc3e07e",
      "2fbdeaac67284b1bba273a885bf1c5eb",
      "bb3df1aaf7b9401fa59a5a1243913bd4"
     ]
    },
    "colab_type": "code",
    "id": "8HOBgF9yxdM8",
    "outputId": "d6e0d1fc-65c8-4524-c6fe-a13b8994ccdb"
   },
   "outputs": [
    {
     "data": {
      "application/vnd.jupyter.widget-view+json": {
       "model_id": "731ce2fb1fc84fefb1cca6130f640456",
       "version_major": 2,
       "version_minor": 0
      },
      "text/plain": [
       "HBox(children=(FloatProgress(value=1.0, bar_style='info', max=1.0), HTML(value='')))"
      ]
     },
     "metadata": {},
     "output_type": "display_data"
    },
    {
     "name": "stdout",
     "output_type": "stream",
     "text": [
      "\n"
     ]
    }
   ],
   "source": [
    "merged_dataset = merge(padded_dataset, to_words_pos_dataset, dataset)"
   ]
  },
  {
   "cell_type": "code",
   "execution_count": 92,
   "metadata": {
    "colab": {},
    "colab_type": "code",
    "id": "ZAssvCKbxdNM"
   },
   "outputs": [],
   "source": [
    "class BiLSTM(nn.Module):\n",
    "    def __init__(self, embed_dim, hidden_dim, num_layers, vocab_size):\n",
    "        super(BiLSTM, self).__init__()\n",
    "        self.word_embeddings = nn.Embedding(vocab_size, embed_dim)\n",
    "        self.lstm = nn.LSTM(embed_dim, hidden_dim, num_layers=num_layers, bidirectional=True, batch_first=True)\n",
    "        self.linear = nn.Linear(hidden_dim * 2, 2)\n",
    "    \n",
    "    def forward(self, x):\n",
    "        #print(x.shape) torch.Size([64, 2727])\n",
    "        x = self.word_embeddings(x)\n",
    "        #print(x.shape) torch.Size([64, 2727, 64])\n",
    "        x, _ = self.lstm(x)\n",
    "        x = self.linear(x)\n",
    "        x = torch.transpose(x, 1, 2)\n",
    "        #print(x.shape) torch.Size([64, 2, 2727])\n",
    "        x = F.log_softmax(x, dim=2)\n",
    "        # print(x.shape) torch.Size([64, 2, 2727])\n",
    "        \n",
    "        return x"
   ]
  },
  {
   "cell_type": "code",
   "execution_count": 94,
   "metadata": {
    "colab": {},
    "colab_type": "code",
    "id": "dXXYUI-mxdNa"
   },
   "outputs": [],
   "source": [
    "NUM_EPOCHS = 10\n",
    "BATCH_SIZE = 64\n",
    "EMBEDDING = 64\n",
    "HIDDEN = 64\n",
    "NUM_LAYERS = 3"
   ]
  },
  {
   "cell_type": "code",
   "execution_count": 95,
   "metadata": {
    "colab": {},
    "colab_type": "code",
    "id": "ar55HPBvP735"
   },
   "outputs": [],
   "source": [
    "torch.cuda.empty_cache()"
   ]
  },
  {
   "cell_type": "code",
   "execution_count": 96,
   "metadata": {
    "colab": {},
    "colab_type": "code",
    "id": "7TidGCKaxdNd"
   },
   "outputs": [],
   "source": [
    "model = BiLSTM(EMBEDDING, HIDDEN, NUM_LAYERS, (len(word2ind)) + 1)\n",
    "model = model.float().to(DEVICE)\n",
    "loss_func = nn.NLLLoss()\n",
    "optimizer = optim.Adam(model.parameters(), lr=0.001)"
   ]
  },
  {
   "cell_type": "code",
   "execution_count": 97,
   "metadata": {
    "colab": {},
    "colab_type": "code",
    "id": "RBV-OUxTxdNI"
   },
   "outputs": [],
   "source": [
    "train_dataset, val_dataset = train_test_split(merged_dataset, test_size=0.2, random_state=42)"
   ]
  },
  {
   "cell_type": "code",
   "execution_count": 98,
   "metadata": {
    "colab": {
     "base_uri": "https://localhost:8080/",
     "height": 34
    },
    "colab_type": "code",
    "id": "TCXoBq9ym64V",
    "outputId": "9b6a06f3-61b8-4570-b23e-29c1fa4f353b"
   },
   "outputs": [
    {
     "name": "stdout",
     "output_type": "stream",
     "text": [
      "(1281,)\n"
     ]
    }
   ],
   "source": [
    "print(train_dataset[1].shape)"
   ]
  },
  {
   "cell_type": "code",
   "execution_count": 99,
   "metadata": {
    "colab": {},
    "colab_type": "code",
    "id": "ke_exZJWxdNs"
   },
   "outputs": [
    {
     "name": "stderr",
     "output_type": "stream",
     "text": [
      "/usr/local/lib/python3.6/dist-packages/ipykernel_launcher.py:29: TqdmDeprecationWarning: Please use `tqdm.notebook.trange` instead of `tqdm.tnrange`\n"
     ]
    },
    {
     "data": {
      "application/vnd.jupyter.widget-view+json": {
       "model_id": "f7a37a79b8fb4b568f18c09e03d57a33",
       "version_major": 2,
       "version_minor": 0
      },
      "text/plain": [
       "HBox(children=(FloatProgress(value=0.0, description='Epoch', max=10.0, style=ProgressStyle(description_width='…"
      ]
     },
     "metadata": {},
     "output_type": "display_data"
    },
    {
     "name": "stdout",
     "output_type": "stream",
     "text": [
      "\n"
     ]
    }
   ],
   "source": [
    "train_losses = []\n",
    "train_x = []\n",
    "val_losses = []\n",
    "val_x = []\n",
    "\n",
    "train_loader = DataLoader(train_dataset, batch_size=BATCH_SIZE, shuffle=True)\n",
    "val_loader = DataLoader(val_dataset, batch_size=BATCH_SIZE)\n",
    "\n",
    "with torch.no_grad():\n",
    "    losses = []\n",
    "    for data in val_loader:\n",
    "        split_pos = data.shape[1] - 2\n",
    "        x = data[:, :split_pos].to(DEVICE)\n",
    "        y = data[:, split_pos:].to(DEVICE)\n",
    "        output = model(x.long())\n",
    "        y1 = y[:, 0].reshape(-1)\n",
    "        y2 = y[:, 1].reshape(-1)\n",
    "        loss = (loss_func(output[:, 0], y1.long()) + \n",
    "                loss_func(output[:, 1], y2.long())) / 2\n",
    "        losses.append(loss.item())\n",
    "\n",
    "    val_x.append(0)\n",
    "    val_losses.append(np.mean(np.array(losses)))\n",
    "\n",
    "it = 1\n",
    "\n",
    "for epoch in tqdm.notebook.trange(NUM_EPOCHS, desc='Epoch'):\n",
    "    for data in train_loader:\n",
    "        split_pos = data.shape[1] - 2\n",
    "        x = data[:, :split_pos].to(DEVICE)\n",
    "        y = data[:, split_pos:].to(DEVICE)\n",
    "        optimizer.zero_grad()\n",
    "        output = model(x.long())\n",
    "        y1 = y[:, 0].reshape(-1)\n",
    "        y2 = y[:, 1].reshape(-1)\n",
    "        loss = (loss_func(output[:, 0], y1.long()) + \n",
    "                loss_func(output[:, 1], y2.long())) / 2\n",
    "        loss.backward()\n",
    "\n",
    "        train_x.append(it)\n",
    "        train_losses.append(loss.item())\n",
    "        nn.utils.clip_grad_norm_(model.parameters(), 5)\n",
    "        optimizer.step()\n",
    "        it += 1\n",
    "\n",
    "    with torch.no_grad():\n",
    "        losses = []\n",
    "        for data in val_loader:\n",
    "            split_pos = data.shape[1] - 2\n",
    "            x = data[:, :split_pos].to(DEVICE)\n",
    "            y = data[:, split_pos:].to(DEVICE)\n",
    "            output = model(x.long())\n",
    "            y1 = y[:, 0].reshape(-1)\n",
    "            y2 = y[:, 1].reshape(-1)\n",
    "            loss = (loss_func(output[:, 0], y1.long()) + \n",
    "                loss_func(output[:, 1], y2.long())) / 2\n",
    "            losses.append(loss.item())\n",
    "\n",
    "        val_x.append(it)\n",
    "        val_losses.append(np.mean(np.array(losses)))"
   ]
  },
  {
   "cell_type": "code",
   "execution_count": 100,
   "metadata": {
    "colab": {
     "base_uri": "https://localhost:8080/",
     "height": 281
    },
    "colab_type": "code",
    "id": "vsH8OQi0xdNy",
    "outputId": "984b25be-c3a0-4772-e2f2-b7c8ee98fad0"
   },
   "outputs": [
    {
     "data": {
      "image/png": "[encoded data removed]",
      "text/plain": [
       "<Figure size 432x288 with 1 Axes>"
      ]
     },
     "metadata": {
      "needs_background": "light"
     },
     "output_type": "display_data"
    }
   ],
   "source": [
    "plt.plot(train_x, train_losses, label='train')\n",
    "plt.plot(val_x, val_losses, label='val')\n",
    "plt.legend()\n",
    "plt.title(\"loss\")\n",
    "plt.show()"
   ]
  },
  {
   "cell_type": "code",
   "execution_count": 112,
   "metadata": {
    "colab": {},
    "colab_type": "code",
    "id": "NjpxYr9Mmogc"
   },
   "outputs": [
    {
     "name": "stdout",
     "output_type": "stream",
     "text": [
      "Вторая жена (с 7 июня 1850 года) — баронесса Александра фон Бистром (1824—1902), дочь генерал-лейтенанта А. А. Бистрома, внучатая племянница мореплавателя И. Ф. Крузенштерна.[21] Свадьбу играли в гончаровской усадьбе Полотняный Завод, причём таинство венчания было совершено 7/20 июня 1850 года в местном Преображенском храме[22]. Долгое время Пирогову приписывали авторство статьи Идеал женщины , которая представляет собой выборку из переписки Н. И. Пирогова с его второй женой[23]. В 1884 году трудами Александры Антоновны была открыта хирургическая лечебница в Киеве.\n",
      "Где проходила свадебная церемония\n",
      "Завиток всегда служил чем-то вроде фирменного клейма — свидетельства о вкусе и мастерстве создателя. Изначально завиток скорее напоминал женскую ступню в туфельке, со временем схожесть становилась всё меньше — узнаваема только пятка , носок изменился до неузнаваемости. Некоторые мастера заменяли завиток скульптурой, как у виол — резной головой льва, например, как это делал Джованни Паоло Маджини (1580—1632). Мастера XIX века, удлиняя гриф старинных скрипок, стремились сохранить головку и завиток как привилегированное свидетельство о рождении .\n",
      "Что осталось узнаваемым в завитке\n"
     ]
    },
    {
     "data": {
      "application/vnd.jupyter.widget-view+json": {
       "model_id": "32d9af1c50054327a1967aa41ea4e6b7",
       "version_major": 2,
       "version_minor": 0
      },
      "text/plain": [
       "HBox(children=(FloatProgress(value=0.0, max=1000.0), HTML(value='')))"
      ]
     },
     "metadata": {},
     "output_type": "display_data"
    },
    {
     "name": "stdout",
     "output_type": "stream",
     "text": [
      "\n"
     ]
    }
   ],
   "source": [
    "test_df = pd.read_csv(\"dataset_281937_1.txt\", encoding=\"utf-8\", delimiter='\\t')\n",
    "test_size = test_df.shape[0]\n",
    "\n",
    "test_dataset = []\n",
    "\n",
    "test_question_ids = test_df.iloc[:, 1].values\n",
    "test_contexts = test_df.iloc[:, 2].values\n",
    "test_questions = test_df.iloc[:, 3].values\n",
    "\n",
    "for i in range(test_size):\n",
    "  context = test_contexts[i]\n",
    "  question = test_questions[i].strip(\"?\")\n",
    "  question_id = test_question_ids[i]\n",
    "\n",
    "  sent, _ = find_closest_sent(context, question, True)\n",
    "\n",
    "  if sent == None:\n",
    "    print(context)\n",
    "    print(question)\n",
    "    sent = context\n",
    "    #break\n",
    "\n",
    "  test_dataset.append({'context': split_text(context),\n",
    "            'question': split_text(question),\n",
    "            'question_id': question_id})\n",
    "\n",
    "padded_test = pad(test_dataset, \"test\")"
   ]
  },
  {
   "cell_type": "code",
   "execution_count": 113,
   "metadata": {},
   "outputs": [],
   "source": [
    "with torch.no_grad():\n",
    "  test_loader = torch.utils.data.DataLoader(padded_test, batch_size=BATCH_SIZE)\n",
    "  ans = None\n",
    "\n",
    "  for data in test_loader:\n",
    "    x = data.to(DEVICE)\n",
    "    output = model(x.long())\n",
    "    value, ansx = output.max(dim=2)\n",
    "    ansx = ansx.cpu().numpy()\n",
    "    if ans is None:\n",
    "      ans = ansx\n",
    "      continue\n",
    "    ans = np.append(ans, ansx, axis=0)\n",
    "\n",
    "out_file = open(\"./out.txt\", \"w\")\n",
    "for positions, item in zip(ans, test_dataset):\n",
    "    start, end = positions\n",
    "    if start > end:\n",
    "        start, end = end, start\n",
    "    if end >= len(item['context']):\n",
    "        start, end = 0, len(item['context']) - 1\n",
    "    #print(type(item['question_id']))\n",
    "    #print(type(\"\".join(item['context'][start:end + 1])))\n",
    "    out_file.write(str(item['question_id']) + \"\\t\" + \"\".join(item['context'][start:end + 1]) + \"\\n\")\n",
    "\n",
    "out_file.close()"
   ]
  },
  {
   "cell_type": "code",
   "execution_count": null,
   "metadata": {},
   "outputs": [],
   "source": []
  },
  {
   "cell_type": "code",
   "execution_count": null,
   "metadata": {},
   "outputs": [],
   "source": []
  }
 ],
 "metadata": {
  "accelerator": "GPU",
  "colab": {
   "collapsed_sections": [],
   "name": "task4_another-approach.ipynb",
   "provenance": []
  },
  "kernelspec": {
   "display_name": "Python 3",
   "language": "python",
   "name": "python3"
  },
  "language_info": {
   "codemirror_mode": {
    "name": "ipython",
    "version": 3
   },
   "file_extension": ".py",
   "mimetype": "text/x-python",
   "name": "python",
   "nbconvert_exporter": "python",
   "pygments_lexer": "ipython3",
   "version": "3.6.8"
  },
  "widgets": {
   "application/vnd.jupyter.widget-state+json": {
    "106dfdd375a5458b84ca9a86163be513": {
     "model_module": "@jupyter-widgets/controls",
     "model_name": "IntProgressModel",
     "state": {
      "_dom_classes": [],
      "_model_module": "@jupyter-widgets/controls",
      "_model_module_version": "1.5.0",
      "_model_name": "IntProgressModel",
      "_view_count": null,
      "_view_module": "@jupyter-widgets/controls",
      "_view_module_version": "1.5.0",
      "_view_name": "ProgressView",
      "bar_style": "success",
      "description": "",
      "description_tooltip": null,
      "layout": "IPY_MODEL_b66511a569c04dc8821a96cd95bcc848",
      "max": 1000,
      "min": 0,
      "orientation": "horizontal",
      "style": "IPY_MODEL_2781ed1e00f64a999478ea47f06390f8",
      "value": 1000
     }
    },
    "109916f815a84a78b25a862ac1afab56": {
     "model_module": "@jupyter-widgets/controls",
     "model_name": "ProgressStyleModel",
     "state": {
      "_model_module": "@jupyter-widgets/controls",
      "_model_module_version": "1.5.0",
      "_model_name": "ProgressStyleModel",
      "_view_count": null,
      "_view_module": "@jupyter-widgets/base",
      "_view_module_version": "1.2.0",
      "_view_name": "StyleView",
      "bar_color": null,
      "description_width": ""
     }
    },
    "17fc535bb2184a30831a92f458e52282": {
     "model_module": "@jupyter-widgets/base",
     "model_name": "LayoutModel",
     "state": {
      "_model_module": "@jupyter-widgets/base",
      "_model_module_version": "1.2.0",
      "_model_name": "LayoutModel",
      "_view_count": null,
      "_view_module": "@jupyter-widgets/base",
      "_view_module_version": "1.2.0",
      "_view_name": "LayoutView",
      "align_content": null,
      "align_items": null,
      "align_self": null,
      "border": null,
      "bottom": null,
      "display": null,
      "flex": null,
      "flex_flow": null,
      "grid_area": null,
      "grid_auto_columns": null,
      "grid_auto_flow": null,
      "grid_auto_rows": null,
      "grid_column": null,
      "grid_gap": null,
      "grid_row": null,
      "grid_template_areas": null,
      "grid_template_columns": null,
      "grid_template_rows": null,
      "height": null,
      "justify_content": null,
      "justify_items": null,
      "left": null,
      "margin": null,
      "max_height": null,
      "max_width": null,
      "min_height": null,
      "min_width": null,
      "object_fit": null,
      "object_position": null,
      "order": null,
      "overflow": null,
      "overflow_x": null,
      "overflow_y": null,
      "padding": null,
      "right": null,
      "top": null,
      "visibility": null,
      "width": null
     }
    },
    "2781ed1e00f64a999478ea47f06390f8": {
     "model_module": "@jupyter-widgets/controls",
     "model_name": "ProgressStyleModel",
     "state": {
      "_model_module": "@jupyter-widgets/controls",
      "_model_module_version": "1.5.0",
      "_model_name": "ProgressStyleModel",
      "_view_count": null,
      "_view_module": "@jupyter-widgets/base",
      "_view_module_version": "1.2.0",
      "_view_name": "StyleView",
      "bar_color": null,
      "description_width": ""
     }
    },
    "2a77395a338a49ac9696c8d5817b7b75": {
     "model_module": "@jupyter-widgets/controls",
     "model_name": "HTMLModel",
     "state": {
      "_dom_classes": [],
      "_model_module": "@jupyter-widgets/controls",
      "_model_module_version": "1.5.0",
      "_model_name": "HTMLModel",
      "_view_count": null,
      "_view_module": "@jupyter-widgets/controls",
      "_view_module_version": "1.5.0",
      "_view_name": "HTMLView",
      "description": "",
      "description_tooltip": null,
      "layout": "IPY_MODEL_654a0c4a217f4e0b8caaba4d44bf58e9",
      "placeholder": "​",
      "style": "IPY_MODEL_fc55024c6b344ff6a5a2ea7194e15fb6",
      "value": "100% 1000/1000 [00:03&lt;00:00, 326.07it/s]"
     }
    },
    "2fbdeaac67284b1bba273a885bf1c5eb": {
     "model_module": "@jupyter-widgets/controls",
     "model_name": "DescriptionStyleModel",
     "state": {
      "_model_module": "@jupyter-widgets/controls",
      "_model_module_version": "1.5.0",
      "_model_name": "DescriptionStyleModel",
      "_view_count": null,
      "_view_module": "@jupyter-widgets/base",
      "_view_module_version": "1.2.0",
      "_view_name": "StyleView",
      "description_width": ""
     }
    },
    "3195e82544424d6a8685d3489825659c": {
     "model_module": "@jupyter-widgets/base",
     "model_name": "LayoutModel",
     "state": {
      "_model_module": "@jupyter-widgets/base",
      "_model_module_version": "1.2.0",
      "_model_name": "LayoutModel",
      "_view_count": null,
      "_view_module": "@jupyter-widgets/base",
      "_view_module_version": "1.2.0",
      "_view_name": "LayoutView",
      "align_content": null,
      "align_items": null,
      "align_self": null,
      "border": null,
      "bottom": null,
      "display": null,
      "flex": null,
      "flex_flow": null,
      "grid_area": null,
      "grid_auto_columns": null,
      "grid_auto_flow": null,
      "grid_auto_rows": null,
      "grid_column": null,
      "grid_gap": null,
      "grid_row": null,
      "grid_template_areas": null,
      "grid_template_columns": null,
      "grid_template_rows": null,
      "height": null,
      "justify_content": null,
      "justify_items": null,
      "left": null,
      "margin": null,
      "max_height": null,
      "max_width": null,
      "min_height": null,
      "min_width": null,
      "object_fit": null,
      "object_position": null,
      "order": null,
      "overflow": null,
      "overflow_x": null,
      "overflow_y": null,
      "padding": null,
      "right": null,
      "top": null,
      "visibility": null,
      "width": null
     }
    },
    "3564e04bb3d94b969d35ab64463ab703": {
     "model_module": "@jupyter-widgets/base",
     "model_name": "LayoutModel",
     "state": {
      "_model_module": "@jupyter-widgets/base",
      "_model_module_version": "1.2.0",
      "_model_name": "LayoutModel",
      "_view_count": null,
      "_view_module": "@jupyter-widgets/base",
      "_view_module_version": "1.2.0",
      "_view_name": "LayoutView",
      "align_content": null,
      "align_items": null,
      "align_self": null,
      "border": null,
      "bottom": null,
      "display": null,
      "flex": null,
      "flex_flow": null,
      "grid_area": null,
      "grid_auto_columns": null,
      "grid_auto_flow": null,
      "grid_auto_rows": null,
      "grid_column": null,
      "grid_gap": null,
      "grid_row": null,
      "grid_template_areas": null,
      "grid_template_columns": null,
      "grid_template_rows": null,
      "height": null,
      "justify_content": null,
      "justify_items": null,
      "left": null,
      "margin": null,
      "max_height": null,
      "max_width": null,
      "min_height": null,
      "min_width": null,
      "object_fit": null,
      "object_position": null,
      "order": null,
      "overflow": null,
      "overflow_x": null,
      "overflow_y": null,
      "padding": null,
      "right": null,
      "top": null,
      "visibility": null,
      "width": null
     }
    },
    "3ae57e24b57f41459821badfc9f573e2": {
     "model_module": "@jupyter-widgets/base",
     "model_name": "LayoutModel",
     "state": {
      "_model_module": "@jupyter-widgets/base",
      "_model_module_version": "1.2.0",
      "_model_name": "LayoutModel",
      "_view_count": null,
      "_view_module": "@jupyter-widgets/base",
      "_view_module_version": "1.2.0",
      "_view_name": "LayoutView",
      "align_content": null,
      "align_items": null,
      "align_self": null,
      "border": null,
      "bottom": null,
      "display": null,
      "flex": null,
      "flex_flow": null,
      "grid_area": null,
      "grid_auto_columns": null,
      "grid_auto_flow": null,
      "grid_auto_rows": null,
      "grid_column": null,
      "grid_gap": null,
      "grid_row": null,
      "grid_template_areas": null,
      "grid_template_columns": null,
      "grid_template_rows": null,
      "height": null,
      "justify_content": null,
      "justify_items": null,
      "left": null,
      "margin": null,
      "max_height": null,
      "max_width": null,
      "min_height": null,
      "min_width": null,
      "object_fit": null,
      "object_position": null,
      "order": null,
      "overflow": null,
      "overflow_x": null,
      "overflow_y": null,
      "padding": null,
      "right": null,
      "top": null,
      "visibility": null,
      "width": null
     }
    },
    "3e8d10ea84cf482d83c1b2ca860142de": {
     "model_module": "@jupyter-widgets/controls",
     "model_name": "HTMLModel",
     "state": {
      "_dom_classes": [],
      "_model_module": "@jupyter-widgets/controls",
      "_model_module_version": "1.5.0",
      "_model_name": "HTMLModel",
      "_view_count": null,
      "_view_module": "@jupyter-widgets/controls",
      "_view_module_version": "1.5.0",
      "_view_name": "HTMLView",
      "description": "",
      "description_tooltip": null,
      "layout": "IPY_MODEL_bb3df1aaf7b9401fa59a5a1243913bd4",
      "placeholder": "​",
      "style": "IPY_MODEL_2fbdeaac67284b1bba273a885bf1c5eb",
      "value": "50360it [00:02, 22903.43it/s]"
     }
    },
    "450dd5f723c741bab501d11aec97739a": {
     "model_module": "@jupyter-widgets/controls",
     "model_name": "IntProgressModel",
     "state": {
      "_dom_classes": [],
      "_model_module": "@jupyter-widgets/controls",
      "_model_module_version": "1.5.0",
      "_model_name": "IntProgressModel",
      "_view_count": null,
      "_view_module": "@jupyter-widgets/controls",
      "_view_module_version": "1.5.0",
      "_view_name": "ProgressView",
      "bar_style": "success",
      "description": "",
      "description_tooltip": null,
      "layout": "IPY_MODEL_17fc535bb2184a30831a92f458e52282",
      "max": 1000,
      "min": 0,
      "orientation": "horizontal",
      "style": "IPY_MODEL_d6e8bd42e7294974963efa3f147c63da",
      "value": 1000
     }
    },
    "544ab367675142dd80d8ebc9811c17e6": {
     "model_module": "@jupyter-widgets/controls",
     "model_name": "IntProgressModel",
     "state": {
      "_dom_classes": [],
      "_model_module": "@jupyter-widgets/controls",
      "_model_module_version": "1.5.0",
      "_model_name": "IntProgressModel",
      "_view_count": null,
      "_view_module": "@jupyter-widgets/controls",
      "_view_module_version": "1.5.0",
      "_view_name": "ProgressView",
      "bar_style": "success",
      "description": "",
      "description_tooltip": null,
      "layout": "IPY_MODEL_3564e04bb3d94b969d35ab64463ab703",
      "max": 50360,
      "min": 0,
      "orientation": "horizontal",
      "style": "IPY_MODEL_ea366b7ee9444ff88c7888fdebdee4ab",
      "value": 50360
     }
    },
    "5c8a57865cf94eb89eca9e6b1dfb8b33": {
     "model_module": "@jupyter-widgets/controls",
     "model_name": "ProgressStyleModel",
     "state": {
      "_model_module": "@jupyter-widgets/controls",
      "_model_module_version": "1.5.0",
      "_model_name": "ProgressStyleModel",
      "_view_count": null,
      "_view_module": "@jupyter-widgets/base",
      "_view_module_version": "1.2.0",
      "_view_name": "StyleView",
      "bar_color": null,
      "description_width": ""
     }
    },
    "654a0c4a217f4e0b8caaba4d44bf58e9": {
     "model_module": "@jupyter-widgets/base",
     "model_name": "LayoutModel",
     "state": {
      "_model_module": "@jupyter-widgets/base",
      "_model_module_version": "1.2.0",
      "_model_name": "LayoutModel",
      "_view_count": null,
      "_view_module": "@jupyter-widgets/base",
      "_view_module_version": "1.2.0",
      "_view_name": "LayoutView",
      "align_content": null,
      "align_items": null,
      "align_self": null,
      "border": null,
      "bottom": null,
      "display": null,
      "flex": null,
      "flex_flow": null,
      "grid_area": null,
      "grid_auto_columns": null,
      "grid_auto_flow": null,
      "grid_auto_rows": null,
      "grid_column": null,
      "grid_gap": null,
      "grid_row": null,
      "grid_template_areas": null,
      "grid_template_columns": null,
      "grid_template_rows": null,
      "height": null,
      "justify_content": null,
      "justify_items": null,
      "left": null,
      "margin": null,
      "max_height": null,
      "max_width": null,
      "min_height": null,
      "min_width": null,
      "object_fit": null,
      "object_position": null,
      "order": null,
      "overflow": null,
      "overflow_x": null,
      "overflow_y": null,
      "padding": null,
      "right": null,
      "top": null,
      "visibility": null,
      "width": null
     }
    },
    "65e51d8fcc4349068b00baba4c92701e": {
     "model_module": "@jupyter-widgets/controls",
     "model_name": "HTMLModel",
     "state": {
      "_dom_classes": [],
      "_model_module": "@jupyter-widgets/controls",
      "_model_module_version": "1.5.0",
      "_model_name": "HTMLModel",
      "_view_count": null,
      "_view_module": "@jupyter-widgets/controls",
      "_view_module_version": "1.5.0",
      "_view_name": "HTMLView",
      "description": "",
      "description_tooltip": null,
      "layout": "IPY_MODEL_3195e82544424d6a8685d3489825659c",
      "placeholder": "​",
      "style": "IPY_MODEL_749d3d3771914a82bb324fc310771812",
      "value": "100% 50360/50360 [00:01&lt;00:00, 33603.29it/s]"
     }
    },
    "749d3d3771914a82bb324fc310771812": {
     "model_module": "@jupyter-widgets/controls",
     "model_name": "DescriptionStyleModel",
     "state": {
      "_model_module": "@jupyter-widgets/controls",
      "_model_module_version": "1.5.0",
      "_model_name": "DescriptionStyleModel",
      "_view_count": null,
      "_view_module": "@jupyter-widgets/base",
      "_view_module_version": "1.2.0",
      "_view_name": "StyleView",
      "description_width": ""
     }
    },
    "7a9caf104d824a47a46fe1911dc3e07e": {
     "model_module": "@jupyter-widgets/base",
     "model_name": "LayoutModel",
     "state": {
      "_model_module": "@jupyter-widgets/base",
      "_model_module_version": "1.2.0",
      "_model_name": "LayoutModel",
      "_view_count": null,
      "_view_module": "@jupyter-widgets/base",
      "_view_module_version": "1.2.0",
      "_view_name": "LayoutView",
      "align_content": null,
      "align_items": null,
      "align_self": null,
      "border": null,
      "bottom": null,
      "display": null,
      "flex": null,
      "flex_flow": null,
      "grid_area": null,
      "grid_auto_columns": null,
      "grid_auto_flow": null,
      "grid_auto_rows": null,
      "grid_column": null,
      "grid_gap": null,
      "grid_row": null,
      "grid_template_areas": null,
      "grid_template_columns": null,
      "grid_template_rows": null,
      "height": null,
      "justify_content": null,
      "justify_items": null,
      "left": null,
      "margin": null,
      "max_height": null,
      "max_width": null,
      "min_height": null,
      "min_width": null,
      "object_fit": null,
      "object_position": null,
      "order": null,
      "overflow": null,
      "overflow_x": null,
      "overflow_y": null,
      "padding": null,
      "right": null,
      "top": null,
      "visibility": null,
      "width": null
     }
    },
    "7bcd11e0a4494bb0a8b630583e445dbe": {
     "model_module": "@jupyter-widgets/base",
     "model_name": "LayoutModel",
     "state": {
      "_model_module": "@jupyter-widgets/base",
      "_model_module_version": "1.2.0",
      "_model_name": "LayoutModel",
      "_view_count": null,
      "_view_module": "@jupyter-widgets/base",
      "_view_module_version": "1.2.0",
      "_view_name": "LayoutView",
      "align_content": null,
      "align_items": null,
      "align_self": null,
      "border": null,
      "bottom": null,
      "display": null,
      "flex": null,
      "flex_flow": null,
      "grid_area": null,
      "grid_auto_columns": null,
      "grid_auto_flow": null,
      "grid_auto_rows": null,
      "grid_column": null,
      "grid_gap": null,
      "grid_row": null,
      "grid_template_areas": null,
      "grid_template_columns": null,
      "grid_template_rows": null,
      "height": null,
      "justify_content": null,
      "justify_items": null,
      "left": null,
      "margin": null,
      "max_height": null,
      "max_width": null,
      "min_height": null,
      "min_width": null,
      "object_fit": null,
      "object_position": null,
      "order": null,
      "overflow": null,
      "overflow_x": null,
      "overflow_y": null,
      "padding": null,
      "right": null,
      "top": null,
      "visibility": null,
      "width": null
     }
    },
    "85b70c6ded3141c3964beb222b3549fd": {
     "model_module": "@jupyter-widgets/controls",
     "model_name": "HTMLModel",
     "state": {
      "_dom_classes": [],
      "_model_module": "@jupyter-widgets/controls",
      "_model_module_version": "1.5.0",
      "_model_name": "HTMLModel",
      "_view_count": null,
      "_view_module": "@jupyter-widgets/controls",
      "_view_module_version": "1.5.0",
      "_view_name": "HTMLView",
      "description": "",
      "description_tooltip": null,
      "layout": "IPY_MODEL_ef452eca6acd486c9e49a983e6d7093a",
      "placeholder": "​",
      "style": "IPY_MODEL_f7e95af8d7b4439e993575b029180a72",
      "value": "100% 50360/50360 [03:51&lt;00:00, 217.53it/s]"
     }
    },
    "8a31b80e3b1a4596806eac6d20ab54c9": {
     "model_module": "@jupyter-widgets/base",
     "model_name": "LayoutModel",
     "state": {
      "_model_module": "@jupyter-widgets/base",
      "_model_module_version": "1.2.0",
      "_model_name": "LayoutModel",
      "_view_count": null,
      "_view_module": "@jupyter-widgets/base",
      "_view_module_version": "1.2.0",
      "_view_name": "LayoutView",
      "align_content": null,
      "align_items": null,
      "align_self": null,
      "border": null,
      "bottom": null,
      "display": null,
      "flex": null,
      "flex_flow": null,
      "grid_area": null,
      "grid_auto_columns": null,
      "grid_auto_flow": null,
      "grid_auto_rows": null,
      "grid_column": null,
      "grid_gap": null,
      "grid_row": null,
      "grid_template_areas": null,
      "grid_template_columns": null,
      "grid_template_rows": null,
      "height": null,
      "justify_content": null,
      "justify_items": null,
      "left": null,
      "margin": null,
      "max_height": null,
      "max_width": null,
      "min_height": null,
      "min_width": null,
      "object_fit": null,
      "object_position": null,
      "order": null,
      "overflow": null,
      "overflow_x": null,
      "overflow_y": null,
      "padding": null,
      "right": null,
      "top": null,
      "visibility": null,
      "width": null
     }
    },
    "973527e2b68f4250855395d531ea6ec8": {
     "model_module": "@jupyter-widgets/base",
     "model_name": "LayoutModel",
     "state": {
      "_model_module": "@jupyter-widgets/base",
      "_model_module_version": "1.2.0",
      "_model_name": "LayoutModel",
      "_view_count": null,
      "_view_module": "@jupyter-widgets/base",
      "_view_module_version": "1.2.0",
      "_view_name": "LayoutView",
      "align_content": null,
      "align_items": null,
      "align_self": null,
      "border": null,
      "bottom": null,
      "display": null,
      "flex": null,
      "flex_flow": null,
      "grid_area": null,
      "grid_auto_columns": null,
      "grid_auto_flow": null,
      "grid_auto_rows": null,
      "grid_column": null,
      "grid_gap": null,
      "grid_row": null,
      "grid_template_areas": null,
      "grid_template_columns": null,
      "grid_template_rows": null,
      "height": null,
      "justify_content": null,
      "justify_items": null,
      "left": null,
      "margin": null,
      "max_height": null,
      "max_width": null,
      "min_height": null,
      "min_width": null,
      "object_fit": null,
      "object_position": null,
      "order": null,
      "overflow": null,
      "overflow_x": null,
      "overflow_y": null,
      "padding": null,
      "right": null,
      "top": null,
      "visibility": null,
      "width": null
     }
    },
    "9da4cd47266b472cad81410a80adc7ed": {
     "model_module": "@jupyter-widgets/controls",
     "model_name": "DescriptionStyleModel",
     "state": {
      "_model_module": "@jupyter-widgets/controls",
      "_model_module_version": "1.5.0",
      "_model_name": "DescriptionStyleModel",
      "_view_count": null,
      "_view_module": "@jupyter-widgets/base",
      "_view_module_version": "1.2.0",
      "_view_name": "StyleView",
      "description_width": ""
     }
    },
    "a9ec192ba3e54089899fb949aee9a07a": {
     "model_module": "@jupyter-widgets/controls",
     "model_name": "HBoxModel",
     "state": {
      "_dom_classes": [],
      "_model_module": "@jupyter-widgets/controls",
      "_model_module_version": "1.5.0",
      "_model_name": "HBoxModel",
      "_view_count": null,
      "_view_module": "@jupyter-widgets/controls",
      "_view_module_version": "1.5.0",
      "_view_name": "HBoxView",
      "box_style": "",
      "children": [
       "IPY_MODEL_544ab367675142dd80d8ebc9811c17e6",
       "IPY_MODEL_65e51d8fcc4349068b00baba4c92701e"
      ],
      "layout": "IPY_MODEL_b30fab0093c941f3a465574271d7c5f0"
     }
    },
    "aeedf708e4e04f27a9c6f3844c5a94c4": {
     "model_module": "@jupyter-widgets/controls",
     "model_name": "HBoxModel",
     "state": {
      "_dom_classes": [],
      "_model_module": "@jupyter-widgets/controls",
      "_model_module_version": "1.5.0",
      "_model_name": "HBoxModel",
      "_view_count": null,
      "_view_module": "@jupyter-widgets/controls",
      "_view_module_version": "1.5.0",
      "_view_name": "HBoxView",
      "box_style": "",
      "children": [
       "IPY_MODEL_106dfdd375a5458b84ca9a86163be513",
       "IPY_MODEL_e7742981af3f445fbd2a84ce0e217f48"
      ],
      "layout": "IPY_MODEL_973527e2b68f4250855395d531ea6ec8"
     }
    },
    "b0866c82fca24c9dbf1d2d4a78086913": {
     "model_module": "@jupyter-widgets/controls",
     "model_name": "IntProgressModel",
     "state": {
      "_dom_classes": [],
      "_model_module": "@jupyter-widgets/controls",
      "_model_module_version": "1.5.0",
      "_model_name": "IntProgressModel",
      "_view_count": null,
      "_view_module": "@jupyter-widgets/controls",
      "_view_module_version": "1.5.0",
      "_view_name": "ProgressView",
      "bar_style": "success",
      "description": "",
      "description_tooltip": null,
      "layout": "IPY_MODEL_c14880f65dfc4dc3b79289a777504a46",
      "max": 50360,
      "min": 0,
      "orientation": "horizontal",
      "style": "IPY_MODEL_109916f815a84a78b25a862ac1afab56",
      "value": 50360
     }
    },
    "b30fab0093c941f3a465574271d7c5f0": {
     "model_module": "@jupyter-widgets/base",
     "model_name": "LayoutModel",
     "state": {
      "_model_module": "@jupyter-widgets/base",
      "_model_module_version": "1.2.0",
      "_model_name": "LayoutModel",
      "_view_count": null,
      "_view_module": "@jupyter-widgets/base",
      "_view_module_version": "1.2.0",
      "_view_name": "LayoutView",
      "align_content": null,
      "align_items": null,
      "align_self": null,
      "border": null,
      "bottom": null,
      "display": null,
      "flex": null,
      "flex_flow": null,
      "grid_area": null,
      "grid_auto_columns": null,
      "grid_auto_flow": null,
      "grid_auto_rows": null,
      "grid_column": null,
      "grid_gap": null,
      "grid_row": null,
      "grid_template_areas": null,
      "grid_template_columns": null,
      "grid_template_rows": null,
      "height": null,
      "justify_content": null,
      "justify_items": null,
      "left": null,
      "margin": null,
      "max_height": null,
      "max_width": null,
      "min_height": null,
      "min_width": null,
      "object_fit": null,
      "object_position": null,
      "order": null,
      "overflow": null,
      "overflow_x": null,
      "overflow_y": null,
      "padding": null,
      "right": null,
      "top": null,
      "visibility": null,
      "width": null
     }
    },
    "b5f5a36465cc44fda7c18c15d5b35021": {
     "model_module": "@jupyter-widgets/controls",
     "model_name": "HBoxModel",
     "state": {
      "_dom_classes": [],
      "_model_module": "@jupyter-widgets/controls",
      "_model_module_version": "1.5.0",
      "_model_name": "HBoxModel",
      "_view_count": null,
      "_view_module": "@jupyter-widgets/controls",
      "_view_module_version": "1.5.0",
      "_view_name": "HBoxView",
      "box_style": "",
      "children": [
       "IPY_MODEL_b0866c82fca24c9dbf1d2d4a78086913",
       "IPY_MODEL_85b70c6ded3141c3964beb222b3549fd"
      ],
      "layout": "IPY_MODEL_7bcd11e0a4494bb0a8b630583e445dbe"
     }
    },
    "b66511a569c04dc8821a96cd95bcc848": {
     "model_module": "@jupyter-widgets/base",
     "model_name": "LayoutModel",
     "state": {
      "_model_module": "@jupyter-widgets/base",
      "_model_module_version": "1.2.0",
      "_model_name": "LayoutModel",
      "_view_count": null,
      "_view_module": "@jupyter-widgets/base",
      "_view_module_version": "1.2.0",
      "_view_name": "LayoutView",
      "align_content": null,
      "align_items": null,
      "align_self": null,
      "border": null,
      "bottom": null,
      "display": null,
      "flex": null,
      "flex_flow": null,
      "grid_area": null,
      "grid_auto_columns": null,
      "grid_auto_flow": null,
      "grid_auto_rows": null,
      "grid_column": null,
      "grid_gap": null,
      "grid_row": null,
      "grid_template_areas": null,
      "grid_template_columns": null,
      "grid_template_rows": null,
      "height": null,
      "justify_content": null,
      "justify_items": null,
      "left": null,
      "margin": null,
      "max_height": null,
      "max_width": null,
      "min_height": null,
      "min_width": null,
      "object_fit": null,
      "object_position": null,
      "order": null,
      "overflow": null,
      "overflow_x": null,
      "overflow_y": null,
      "padding": null,
      "right": null,
      "top": null,
      "visibility": null,
      "width": null
     }
    },
    "bb3df1aaf7b9401fa59a5a1243913bd4": {
     "model_module": "@jupyter-widgets/base",
     "model_name": "LayoutModel",
     "state": {
      "_model_module": "@jupyter-widgets/base",
      "_model_module_version": "1.2.0",
      "_model_name": "LayoutModel",
      "_view_count": null,
      "_view_module": "@jupyter-widgets/base",
      "_view_module_version": "1.2.0",
      "_view_name": "LayoutView",
      "align_content": null,
      "align_items": null,
      "align_self": null,
      "border": null,
      "bottom": null,
      "display": null,
      "flex": null,
      "flex_flow": null,
      "grid_area": null,
      "grid_auto_columns": null,
      "grid_auto_flow": null,
      "grid_auto_rows": null,
      "grid_column": null,
      "grid_gap": null,
      "grid_row": null,
      "grid_template_areas": null,
      "grid_template_columns": null,
      "grid_template_rows": null,
      "height": null,
      "justify_content": null,
      "justify_items": null,
      "left": null,
      "margin": null,
      "max_height": null,
      "max_width": null,
      "min_height": null,
      "min_width": null,
      "object_fit": null,
      "object_position": null,
      "order": null,
      "overflow": null,
      "overflow_x": null,
      "overflow_y": null,
      "padding": null,
      "right": null,
      "top": null,
      "visibility": null,
      "width": null
     }
    },
    "c14880f65dfc4dc3b79289a777504a46": {
     "model_module": "@jupyter-widgets/base",
     "model_name": "LayoutModel",
     "state": {
      "_model_module": "@jupyter-widgets/base",
      "_model_module_version": "1.2.0",
      "_model_name": "LayoutModel",
      "_view_count": null,
      "_view_module": "@jupyter-widgets/base",
      "_view_module_version": "1.2.0",
      "_view_name": "LayoutView",
      "align_content": null,
      "align_items": null,
      "align_self": null,
      "border": null,
      "bottom": null,
      "display": null,
      "flex": null,
      "flex_flow": null,
      "grid_area": null,
      "grid_auto_columns": null,
      "grid_auto_flow": null,
      "grid_auto_rows": null,
      "grid_column": null,
      "grid_gap": null,
      "grid_row": null,
      "grid_template_areas": null,
      "grid_template_columns": null,
      "grid_template_rows": null,
      "height": null,
      "justify_content": null,
      "justify_items": null,
      "left": null,
      "margin": null,
      "max_height": null,
      "max_width": null,
      "min_height": null,
      "min_width": null,
      "object_fit": null,
      "object_position": null,
      "order": null,
      "overflow": null,
      "overflow_x": null,
      "overflow_y": null,
      "padding": null,
      "right": null,
      "top": null,
      "visibility": null,
      "width": null
     }
    },
    "d0cce8b95f994525a1ae3eb54f9e429a": {
     "model_module": "@jupyter-widgets/base",
     "model_name": "LayoutModel",
     "state": {
      "_model_module": "@jupyter-widgets/base",
      "_model_module_version": "1.2.0",
      "_model_name": "LayoutModel",
      "_view_count": null,
      "_view_module": "@jupyter-widgets/base",
      "_view_module_version": "1.2.0",
      "_view_name": "LayoutView",
      "align_content": null,
      "align_items": null,
      "align_self": null,
      "border": null,
      "bottom": null,
      "display": null,
      "flex": null,
      "flex_flow": null,
      "grid_area": null,
      "grid_auto_columns": null,
      "grid_auto_flow": null,
      "grid_auto_rows": null,
      "grid_column": null,
      "grid_gap": null,
      "grid_row": null,
      "grid_template_areas": null,
      "grid_template_columns": null,
      "grid_template_rows": null,
      "height": null,
      "justify_content": null,
      "justify_items": null,
      "left": null,
      "margin": null,
      "max_height": null,
      "max_width": null,
      "min_height": null,
      "min_width": null,
      "object_fit": null,
      "object_position": null,
      "order": null,
      "overflow": null,
      "overflow_x": null,
      "overflow_y": null,
      "padding": null,
      "right": null,
      "top": null,
      "visibility": null,
      "width": null
     }
    },
    "d6e8bd42e7294974963efa3f147c63da": {
     "model_module": "@jupyter-widgets/controls",
     "model_name": "ProgressStyleModel",
     "state": {
      "_model_module": "@jupyter-widgets/controls",
      "_model_module_version": "1.5.0",
      "_model_name": "ProgressStyleModel",
      "_view_count": null,
      "_view_module": "@jupyter-widgets/base",
      "_view_module_version": "1.2.0",
      "_view_name": "StyleView",
      "bar_color": null,
      "description_width": ""
     }
    },
    "da349b5685ad4b8483847ff23716ca60": {
     "model_module": "@jupyter-widgets/controls",
     "model_name": "HBoxModel",
     "state": {
      "_dom_classes": [],
      "_model_module": "@jupyter-widgets/controls",
      "_model_module_version": "1.5.0",
      "_model_name": "HBoxModel",
      "_view_count": null,
      "_view_module": "@jupyter-widgets/controls",
      "_view_module_version": "1.5.0",
      "_view_name": "HBoxView",
      "box_style": "",
      "children": [
       "IPY_MODEL_450dd5f723c741bab501d11aec97739a",
       "IPY_MODEL_2a77395a338a49ac9696c8d5817b7b75"
      ],
      "layout": "IPY_MODEL_3ae57e24b57f41459821badfc9f573e2"
     }
    },
    "dc93e8e2e9bd40188f95afd13de5a564": {
     "model_module": "@jupyter-widgets/controls",
     "model_name": "IntProgressModel",
     "state": {
      "_dom_classes": [],
      "_model_module": "@jupyter-widgets/controls",
      "_model_module_version": "1.5.0",
      "_model_name": "IntProgressModel",
      "_view_count": null,
      "_view_module": "@jupyter-widgets/controls",
      "_view_module_version": "1.5.0",
      "_view_name": "ProgressView",
      "bar_style": "success",
      "description": "",
      "description_tooltip": null,
      "layout": "IPY_MODEL_7a9caf104d824a47a46fe1911dc3e07e",
      "max": 1,
      "min": 0,
      "orientation": "horizontal",
      "style": "IPY_MODEL_5c8a57865cf94eb89eca9e6b1dfb8b33",
      "value": 1
     }
    },
    "e60e7856a32143d5bff1305bc5338cbd": {
     "model_module": "@jupyter-widgets/controls",
     "model_name": "HBoxModel",
     "state": {
      "_dom_classes": [],
      "_model_module": "@jupyter-widgets/controls",
      "_model_module_version": "1.5.0",
      "_model_name": "HBoxModel",
      "_view_count": null,
      "_view_module": "@jupyter-widgets/controls",
      "_view_module_version": "1.5.0",
      "_view_name": "HBoxView",
      "box_style": "",
      "children": [
       "IPY_MODEL_dc93e8e2e9bd40188f95afd13de5a564",
       "IPY_MODEL_3e8d10ea84cf482d83c1b2ca860142de"
      ],
      "layout": "IPY_MODEL_8a31b80e3b1a4596806eac6d20ab54c9"
     }
    },
    "e7742981af3f445fbd2a84ce0e217f48": {
     "model_module": "@jupyter-widgets/controls",
     "model_name": "HTMLModel",
     "state": {
      "_dom_classes": [],
      "_model_module": "@jupyter-widgets/controls",
      "_model_module_version": "1.5.0",
      "_model_name": "HTMLModel",
      "_view_count": null,
      "_view_module": "@jupyter-widgets/controls",
      "_view_module_version": "1.5.0",
      "_view_name": "HTMLView",
      "description": "",
      "description_tooltip": null,
      "layout": "IPY_MODEL_d0cce8b95f994525a1ae3eb54f9e429a",
      "placeholder": "​",
      "style": "IPY_MODEL_9da4cd47266b472cad81410a80adc7ed",
      "value": "100% 1000/1000 [00:00&lt;00:00, 19173.70it/s]"
     }
    },
    "ea366b7ee9444ff88c7888fdebdee4ab": {
     "model_module": "@jupyter-widgets/controls",
     "model_name": "ProgressStyleModel",
     "state": {
      "_model_module": "@jupyter-widgets/controls",
      "_model_module_version": "1.5.0",
      "_model_name": "ProgressStyleModel",
      "_view_count": null,
      "_view_module": "@jupyter-widgets/base",
      "_view_module_version": "1.2.0",
      "_view_name": "StyleView",
      "bar_color": null,
      "description_width": ""
     }
    },
    "ef452eca6acd486c9e49a983e6d7093a": {
     "model_module": "@jupyter-widgets/base",
     "model_name": "LayoutModel",
     "state": {
      "_model_module": "@jupyter-widgets/base",
      "_model_module_version": "1.2.0",
      "_model_name": "LayoutModel",
      "_view_count": null,
      "_view_module": "@jupyter-widgets/base",
      "_view_module_version": "1.2.0",
      "_view_name": "LayoutView",
      "align_content": null,
      "align_items": null,
      "align_self": null,
      "border": null,
      "bottom": null,
      "display": null,
      "flex": null,
      "flex_flow": null,
      "grid_area": null,
      "grid_auto_columns": null,
      "grid_auto_flow": null,
      "grid_auto_rows": null,
      "grid_column": null,
      "grid_gap": null,
      "grid_row": null,
      "grid_template_areas": null,
      "grid_template_columns": null,
      "grid_template_rows": null,
      "height": null,
      "justify_content": null,
      "justify_items": null,
      "left": null,
      "margin": null,
      "max_height": null,
      "max_width": null,
      "min_height": null,
      "min_width": null,
      "object_fit": null,
      "object_position": null,
      "order": null,
      "overflow": null,
      "overflow_x": null,
      "overflow_y": null,
      "padding": null,
      "right": null,
      "top": null,
      "visibility": null,
      "width": null
     }
    },
    "f7e95af8d7b4439e993575b029180a72": {
     "model_module": "@jupyter-widgets/controls",
     "model_name": "DescriptionStyleModel",
     "state": {
      "_model_module": "@jupyter-widgets/controls",
      "_model_module_version": "1.5.0",
      "_model_name": "DescriptionStyleModel",
      "_view_count": null,
      "_view_module": "@jupyter-widgets/base",
      "_view_module_version": "1.2.0",
      "_view_name": "StyleView",
      "description_width": ""
     }
    },
    "fc55024c6b344ff6a5a2ea7194e15fb6": {
     "model_module": "@jupyter-widgets/controls",
     "model_name": "DescriptionStyleModel",
     "state": {
      "_model_module": "@jupyter-widgets/controls",
      "_model_module_version": "1.5.0",
      "_model_name": "DescriptionStyleModel",
      "_view_count": null,
      "_view_module": "@jupyter-widgets/base",
      "_view_module_version": "1.2.0",
      "_view_name": "StyleView",
      "description_width": ""
     }
    }
   }
  }
 },
 "nbformat": 4,
 "nbformat_minor": 1
}
