{
 "cells": [
  {
   "cell_type": "code",
   "execution_count": 658,
   "metadata": {},
   "outputs": [],
   "source": [
    "from pymystem3 import Mystem\n",
    "import os\n",
    "import re\n",
    "from nltk.tokenize import word_tokenize\n",
    "from nltk.stem.snowball import SnowballStemmer\n",
    "import matplotlib.pyplot as plt"
   ]
  },
  {
   "cell_type": "code",
   "execution_count": 647,
   "metadata": {},
   "outputs": [],
   "source": [
    "mystem = Mystem()\n",
    "stemmer = SnowballStemmer(\"russian\")"
   ]
  },
  {
   "cell_type": "code",
   "execution_count": 648,
   "metadata": {},
   "outputs": [],
   "source": [
    "f_test = open(\"dataset_40163_1.txt\", \"r\")\n",
    "test_sentences = f_test.read().split(\"\\n\")"
   ]
  },
  {
   "cell_type": "code",
   "execution_count": 649,
   "metadata": {},
   "outputs": [],
   "source": [
    "f_train_enhanced = open(\"train_sentences_enhanced.txt\", \"r\")\n",
    "train_sentences_enhanced = f_train_enhanced.read().split(\"\\n\")"
   ]
  },
  {
   "cell_type": "code",
   "execution_count": 661,
   "metadata": {},
   "outputs": [],
   "source": [
    "f_train = open(\"train_sentences.txt\", \"r\")\n",
    "train_sentences = f_train.read().split(\"\\n\")"
   ]
  },
  {
   "cell_type": "code",
   "execution_count": 650,
   "metadata": {},
   "outputs": [],
   "source": [
    "lemmatized_test_sentences = [mystem.lemmatize(sentence) for sentence in test_sentences]"
   ]
  },
  {
   "cell_type": "code",
   "execution_count": 651,
   "metadata": {},
   "outputs": [
    {
     "data": {
      "text/plain": [
       "'«Да не бросал я!'"
      ]
     },
     "execution_count": 651,
     "metadata": {},
     "output_type": "execute_result"
    }
   ],
   "source": [
    "test_sentences[3]"
   ]
  },
  {
   "cell_type": "code",
   "execution_count": 652,
   "metadata": {},
   "outputs": [],
   "source": [
    "names = set([])\n",
    "orgs = set([])"
   ]
  },
  {
   "cell_type": "code",
   "execution_count": 653,
   "metadata": {},
   "outputs": [],
   "source": [
    "collection_dir = os.fsencode(\"Collection3\")\n",
    "files = [os.fsdecode(el) for el in os.listdir(collection_dir)]\n",
    "\n",
    "for file in files:\n",
    "    if str(file).endswith(\".ann\"):\n",
    "        f_cur = open(\"Collection3/\" + str(file))\n",
    "        content_lines = [elem for elem in f_cur.read().split(\"\\n\") if elem != \"\"]\n",
    "        for line in content_lines:\n",
    "            splitted = re.split(\"\\t| \", line)\n",
    "            tag = splitted[1]\n",
    "            splitted = splitted[4:]\n",
    "            if tag == \"LOC\":\n",
    "                continue\n",
    "                \n",
    "            if tag == \"PER\":\n",
    "                for elem in splitted:\n",
    "                    if elem == \"\":\n",
    "                        continue\n",
    "                    lemmat_elem = stemmer.stem(elem)\n",
    "                    if len(lemmat_elem) == 1:\n",
    "                        continue\n",
    "                    names.add(lemmat_elem)\n",
    "                    \n",
    "            if tag == \"ORG\":\n",
    "                lemmat = stemmer.stem(\" \".join(splitted)).strip(\"\\n\").strip()\n",
    "                lemmat = lemmat.replace('\"', '').replace('«', '').replace('»', '').replace(\"'\", \"\")\n",
    "                if len(lemmat) == 1:\n",
    "                        continue\n",
    "                orgs.add(lemmat)\n",
    "                \n",
    "                \n",
    "                st = 0\n",
    "                n = len(splitted)\n",
    "                \n",
    "                while st < n:\n",
    "                    ln = 2\n",
    "                    \n",
    "                    while st + ln <= n:\n",
    "                        lemmat = stemmer.stem(\" \".join(splitted[st:st+ln])).strip(\"\\n\").strip()\n",
    "                        lemmat = lemmat.replace('\"', '').replace('«', '').replace('»', '').replace(\"'\", \"\")\n",
    "                        if len(lemmat) == 1:\n",
    "                                continue\n",
    "                        orgs.add(lemmat)\n",
    "                        ln += 1\n",
    "                    st += 1\n",
    "                "
   ]
  },
  {
   "cell_type": "code",
   "execution_count": 654,
   "metadata": {},
   "outputs": [],
   "source": [
    "for sentence in train_sentences_enhanced:\n",
    "    words = sentence.split(\" \")\n",
    "    n = len(words)\n",
    "    i = 0\n",
    "    \n",
    "    while i < n:\n",
    "        if words[i].endswith(\"{PERSON}\"):\n",
    "            lemmatized = stemmer.stem(words[i][:-8]).strip(\"\\n\").strip()\n",
    "            names.add(lemmatized)\n",
    "            i += 1\n",
    "            continue\n",
    "        if words[i].endswith(\"{ORG}\"):\n",
    "            j = i + 1\n",
    "            while j < n and words[j].endswith(\"{ORG}\"):\n",
    "                j += 1\n",
    "            phrase_words = [elem.replace(\"{ORG}\", \"\") for elem in words[i:j]]\n",
    "            \n",
    "            lemmat = stemmer.stem(\" \".join(phrase_words)).strip(\"\\n\").strip()\n",
    "            lemmat = lemmat.replace('\"', '').replace('«', '').replace('»', '').replace(\"'\", \"\")\n",
    "            lemmat = lemmat.replace(\"(\", \"\").replace(\")\", \"\")\n",
    "            if len(lemmat) == 1:\n",
    "                    i += 1\n",
    "                    continue\n",
    "            orgs.add(lemmat)\n",
    "            \n",
    "            \n",
    "            st = 0\n",
    "            lenn = len(phrase_words)\n",
    "\n",
    "            while st < lenn:\n",
    "                ln = 2\n",
    "\n",
    "                while st + ln <= lenn:\n",
    "                    lemmat = stemmer.stem(\" \".join(phrase_words[st:st+ln])).strip(\"\\n\").strip()\n",
    "                    lemmat = lemmat.replace('\"', '').replace('«', '').replace('»', '').replace(\"'\", \"\")\n",
    "                    lemmat = lemmat.replace(\"(\", \"\").replace(\")\", \"\")\n",
    "                    #print(lemmat)\n",
    "                    if len(lemmat) == 1:\n",
    "                            continue\n",
    "                    orgs.add(lemmat)\n",
    "                    ln += 1\n",
    "                st += 1\n",
    "            \n",
    "            \n",
    "            i = j\n",
    "            continue\n",
    "        i += 1\n",
    "    "
   ]
  },
  {
   "cell_type": "code",
   "execution_count": null,
   "metadata": {},
   "outputs": [],
   "source": [
    "ans = []\n",
    "quotes = ['\"', \"'\", \"«\", \"»\"]\n",
    "\n",
    "num_sent = 0\n",
    "\n",
    "for sentence in test_sentences:\n",
    "    if sentence == \"\":\n",
    "        continue\n",
    "    \n",
    "    print(num_sent)\n",
    "    num_sent += 1\n",
    "    \n",
    "    sentence_words = sentence.split(\" \")\n",
    "    n = len(sentence_words)\n",
    "    i = 0\n",
    "    \n",
    "    cur_ans = []\n",
    "    \n",
    "    last_was = \"NONE\"\n",
    "    \n",
    "    while i < n:\n",
    "        if sentence_words[i] == \"\":\n",
    "            i += 1\n",
    "            last_was = \"NONE\"\n",
    "            continue\n",
    "            \n",
    "        shift = 0\n",
    "        if i != 0:\n",
    "            shift = 1\n",
    "            \n",
    "        j = i\n",
    "        max_j = -1\n",
    "        \n",
    "        while j < n:\n",
    "            phrase = \" \".join(sentence_words[i:j+1]).replace('\"', '').replace('«', '').replace('»', '').replace(\"'\", \"\")\n",
    "            phrase = phrase.replace(\"(\", \"\").replace(\")\", \"\")\n",
    "            lemmatized_phrase = stemmer.stem(phrase).strip(\"\\n\").strip()\n",
    "            if lemmatized_phrase == \"\":\n",
    "                j += 1\n",
    "                continue\n",
    "            #print(\"PHRASE\" + str(lemmatized_phrase) + \"!\")\n",
    "            if lemmatized_phrase in orgs:\n",
    "                #print(\"True\")\n",
    "                max_j = j\n",
    "            j += 1\n",
    "        \n",
    "        if max_j != -1:\n",
    "            if max_j == i and len(sentence_words[i]) == 1:\n",
    "                i += 1\n",
    "                last_was = \"NONE\"\n",
    "                continue\n",
    "            \n",
    "            for k in range(i, max_j + 1):\n",
    "                start_ind = len(\" \".join(sentence_words[:k])) + shift\n",
    "                lenght = len(sentence_words[k])\n",
    "                cur_ans.append(str(start_ind) + \" \" + str(lenght) + \" \" + \"ORG\")\n",
    "                last_was = \"ORG\"\n",
    "            #print(\"PHRASE\", sentence_words[i:max_j + 1])\n",
    "            #print(\"I MAX_J\", i, max_j)\n",
    "            i = max_j + 1\n",
    "            #last_was = \"ORG\"\n",
    "            continue\n",
    "            \n",
    "        cur_word = sentence_words[i].replace('\"', '').replace('«', '').replace('»', '').replace(\"'\", \"\").replace(\"(\", \"\").replace(\")\", \"\")\n",
    "        \n",
    "        #print(\"CUR_WORD\", cur_word)\n",
    "        #print(\"WORD\", sentence_words[i])\n",
    "        \n",
    "        if len(cur_word) <= 1:\n",
    "            i += 1\n",
    "            last_was = \"NONE\"\n",
    "            continue\n",
    "        \n",
    "        if cur_word.isupper():\n",
    "            start_ind = len(\" \".join(sentence_words[:i])) + shift\n",
    "            lenght = len(sentence_words[i])\n",
    "            cur_ans.append(str(start_ind) + \" \" + str(lenght) + \" \" + \"ORG\")\n",
    "            last_was = \"ORG\"\n",
    "            i += 1\n",
    "            continue \n",
    "            \n",
    "        if sentence_words[i][0] in quotes and sentence_words[i][-1] in quotes and sentence_words[i][1:-1][0].isupper():\n",
    "            start_ind = len(\" \".join(sentence_words[:i])) + shift\n",
    "            lenght = len(sentence_words[i])\n",
    "            if lenght == 1:\n",
    "                continue\n",
    "            \n",
    "            cur_ans.append(str(start_ind) + \" \" + str(lenght) + \" \" + \"ORG\")\n",
    "            last_was = \"ORG\"\n",
    "            i += 1\n",
    "            continue\n",
    "        \n",
    "        if not sentence_words[i][0].isupper():\n",
    "            i += 1\n",
    "            last_was = \"NONE\"\n",
    "            continue\n",
    "        \n",
    "        lemmatized = stemmer.stem(sentence_words[i])\n",
    "        lemmatized = lemmatized.replace('\"', '').replace('«', '').replace('»', '').replace(\"'\", \"\").replace(\"(\", \"\").replace(\")\", \"\")            \n",
    "                \n",
    "        if last_was == \"PER\" or lemmatized in names:\n",
    "            #print(lemmatized)\n",
    "            start_ind = len(\" \".join(sentence_words[:i])) + shift\n",
    "            lenght = len(sentence_words[i])\n",
    "            \n",
    "            cur_ans.append(str(start_ind) + \" \" + str(lenght) + \" \" + \"PERSON\")\n",
    "            last_was = \"PER\"\n",
    "            i += 1\n",
    "            continue\n",
    "        last_was = \"NONE\"  \n",
    "        i += 1\n",
    "    \n",
    "    cur_ans.append(\"EOL\")\n",
    "    #print(cur_ans)\n",
    "    ans.append(\" \".join(cur_ans))"
   ]
  },
  {
   "cell_type": "code",
   "execution_count": 657,
   "metadata": {},
   "outputs": [
    {
     "name": "stdout",
     "output_type": "stream",
     "text": [
      "500\n"
     ]
    }
   ],
   "source": [
    "print(len(ans))\n",
    "\n",
    "f_ans = open(\"ans.txt\", \"w\")\n",
    "f_ans.write(\"\\n\".join(ans))\n",
    "f_ans.close()"
   ]
  },
  {
   "cell_type": "code",
   "execution_count": 662,
   "metadata": {},
   "outputs": [
    {
     "data": {
      "image/png": "[encoded data removed]",
      "text/plain": [
       "<Figure size 432x288 with 1 Axes>"
      ]
     },
     "metadata": {},
     "output_type": "display_data"
    }
   ],
   "source": [
    "plt.style.use(\"ggplot\")\n",
    "plt.hist([len(s.split(\" \")) for s in test_sentences] + \n",
    "         [len(s.split(\" \")) for s in train_sentences_enhanced] + \n",
    "         [len(s.split(\" \")) for s in train_sentences], bins=50)\n",
    "plt.show()"
   ]
  },
  {
   "cell_type": "code",
   "execution_count": null,
   "metadata": {},
   "outputs": [],
   "source": []
  },
  {
   "cell_type": "code",
   "execution_count": null,
   "metadata": {},
   "outputs": [],
   "source": []
  }
 ],
 "metadata": {
  "kernelspec": {
   "display_name": "Python 3",
   "language": "python",
   "name": "python3"
  },
  "language_info": {
   "codemirror_mode": {
    "name": "ipython",
    "version": 3
   },
   "file_extension": ".py",
   "mimetype": "text/x-python",
   "name": "python",
   "nbconvert_exporter": "python",
   "pygments_lexer": "ipython3",
   "version": "3.7.3"
  }
 },
 "nbformat": 4,
 "nbformat_minor": 2
}
